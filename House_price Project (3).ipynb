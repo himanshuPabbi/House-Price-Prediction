{
 "cells": [
  {
   "cell_type": "markdown",
   "id": "82051687",
   "metadata": {},
   "source": [
    "# Project Title : House Price Prediction using Machine Learning \n",
    "## Quantitative\n",
    "## A quantitative variable is a variable that reflects a notion of magnitude, that is, if the values it can take are numbers. A quantitative variable represents thus a measure and is numerical.\n",
    "\n",
    "## Quantitative variables are divided into two types: discrete and continuous. The difference is explained in the following two sections.\n",
    "\n",
    "## Discrete\n",
    "## Quantitative discrete variables are variables for which the values it can take are countable and have a finite number of possibilities. The values are often (but not always) integers. Here are some examples of discrete variables:\n",
    "\n",
    "## Continuous\n",
    "## On the other hand, quantitative continuous variables are variables for which the values are not countable and have an infinite number of possibilities. For example: Age,Weight,Height  \n",
    "\n",
    "## Qualitative\n",
    "## In opposition to quantitative variables, qualitative variables (also referred as categorical variables or factors in R) are variables that are not numerical and which values fits into categories.\n",
    "\n",
    "## In other words, a qualitative variable is a variable which takes as its values modalities, categories or even levels, in contrast to quantitative variables which measure a quantity on each individual.\n",
    "\n",
    "## Qualitative variables are divided into two types: nominal and ordinal.\n",
    "## Nominal\n",
    "## A qualitative nominal variable is a qualitative variable where no ordering is possible or implied in the levels.\n",
    "\n",
    "## For example, the variable gender is nominal because there is no order in the levels (no matter how many levels you consider for the gender—only two with female/male, or more than two with female/male/ungendered/others, levels are unordered). Eye color is another example of a nominal variable because there is no order among blue, brown or green eyes.\n",
    "\n",
    "## Ordinal\n",
    "## On the other hand, a qualitative ordinal variable is a qualitative variable with an order implied in the levels. For instance, if the severity of road accidents has been measured on a scale such as light, moderate and fatal accidents, this variable is a qualitative ordinal variable because there is a clear order in the levels.\n",
    "\n",
    "## Another good example is health, which can take values such as poor, reasonable, good, or excellent. Again, there is a clear order in these levels so health is in this case a qualitative ordinal variable\n",
    "\n",
    "## Nominal : \n",
    "1. mainroad_loc\n",
    "2. guestroom\n",
    "3. airconditioner\n",
    "4. hotwater\n",
    "## Ordinal :\n",
    "5. furnishingstatus\n",
    "\n",
    "\n",
    "## DISCRETE: \n",
    "6. total_stories\n",
    "7. area\n",
    "8. no_bedrooms\n",
    "9. no_bathrooms\n",
    "10. parking\n",
    "\n",
    "## Continuous : \n",
    "11. h_price\n",
    "\n"
   ]
  },
  {
   "cell_type": "code",
   "execution_count": 1,
   "id": "2a2b5e16",
   "metadata": {},
   "outputs": [],
   "source": [
    "import pandas as pd"
   ]
  },
  {
   "cell_type": "code",
   "execution_count": 2,
   "id": "3d600844",
   "metadata": {},
   "outputs": [],
   "source": [
    "import numpy as np"
   ]
  },
  {
   "cell_type": "code",
   "execution_count": 3,
   "id": "2787d617",
   "metadata": {},
   "outputs": [],
   "source": [
    "import seaborn as sns"
   ]
  },
  {
   "cell_type": "code",
   "execution_count": 4,
   "id": "12427f65",
   "metadata": {},
   "outputs": [],
   "source": [
    "from sklearn.preprocessing import LabelEncoder"
   ]
  },
  {
   "cell_type": "code",
   "execution_count": 5,
   "id": "4fdbae26",
   "metadata": {},
   "outputs": [],
   "source": [
    "from sklearn.linear_model import LinearRegression"
   ]
  },
  {
   "cell_type": "code",
   "execution_count": 6,
   "id": "49cbe265",
   "metadata": {},
   "outputs": [],
   "source": [
    "from sklearn.preprocessing import StandardScaler"
   ]
  },
  {
   "cell_type": "code",
   "execution_count": 7,
   "id": "9d28badf",
   "metadata": {},
   "outputs": [],
   "source": [
    "from sklearn.metrics import r2_score"
   ]
  },
  {
   "cell_type": "code",
   "execution_count": 8,
   "id": "47da6de5",
   "metadata": {},
   "outputs": [],
   "source": [
    "from sklearn.ensemble import RandomForestRegressor"
   ]
  },
  {
   "cell_type": "code",
   "execution_count": 9,
   "id": "c509567c",
   "metadata": {},
   "outputs": [],
   "source": [
    "from sklearn.tree import DecisionTreeRegressor"
   ]
  },
  {
   "cell_type": "code",
   "execution_count": 10,
   "id": "e3dc1713",
   "metadata": {},
   "outputs": [],
   "source": [
    "from sklearn.neighbors import KNeighborsRegressor"
   ]
  },
  {
   "cell_type": "code",
   "execution_count": 11,
   "id": "4c723a07",
   "metadata": {},
   "outputs": [],
   "source": [
    "import xgboost as xgb"
   ]
  },
  {
   "cell_type": "code",
   "execution_count": 12,
   "id": "066c353c",
   "metadata": {},
   "outputs": [],
   "source": [
    "from sklearn.model_selection import train_test_split,KFold,cross_val_score"
   ]
  },
  {
   "cell_type": "code",
   "execution_count": 13,
   "id": "e6c3e099",
   "metadata": {},
   "outputs": [],
   "source": [
    "from sklearn.preprocessing import StandardScaler"
   ]
  },
  {
   "cell_type": "code",
   "execution_count": 14,
   "id": "323d98f7",
   "metadata": {},
   "outputs": [],
   "source": [
    "from sklearn.metrics import r2_score,mean_squared_error,classification_report"
   ]
  },
  {
   "cell_type": "code",
   "execution_count": 15,
   "id": "2a5ff548",
   "metadata": {},
   "outputs": [],
   "source": [
    "import matplotlib.pyplot as plt"
   ]
  },
  {
   "cell_type": "code",
   "execution_count": 16,
   "id": "2d3b7234",
   "metadata": {},
   "outputs": [],
   "source": [
    "df=pd.read_excel(\"House_price.xlsx\")\n"
   ]
  },
  {
   "cell_type": "code",
   "execution_count": 17,
   "id": "3dedd1ee",
   "metadata": {},
   "outputs": [
    {
     "data": {
      "text/html": [
       "<div>\n",
       "<style scoped>\n",
       "    .dataframe tbody tr th:only-of-type {\n",
       "        vertical-align: middle;\n",
       "    }\n",
       "\n",
       "    .dataframe tbody tr th {\n",
       "        vertical-align: top;\n",
       "    }\n",
       "\n",
       "    .dataframe thead th {\n",
       "        text-align: right;\n",
       "    }\n",
       "</style>\n",
       "<table border=\"1\" class=\"dataframe\">\n",
       "  <thead>\n",
       "    <tr style=\"text-align: right;\">\n",
       "      <th></th>\n",
       "      <th>h_price</th>\n",
       "      <th>area</th>\n",
       "      <th>no_bedrooms</th>\n",
       "      <th>no_bathrooms</th>\n",
       "      <th>total_stories</th>\n",
       "      <th>mainroad_loc</th>\n",
       "      <th>guestroom</th>\n",
       "      <th>hotwater</th>\n",
       "      <th>airconditioner</th>\n",
       "      <th>parking</th>\n",
       "      <th>furnishingstatus</th>\n",
       "    </tr>\n",
       "  </thead>\n",
       "  <tbody>\n",
       "    <tr>\n",
       "      <th>0</th>\n",
       "      <td>13300000.0</td>\n",
       "      <td>7420.0</td>\n",
       "      <td>4 rooms</td>\n",
       "      <td>2 bathroom</td>\n",
       "      <td>3.0</td>\n",
       "      <td>yes</td>\n",
       "      <td>no</td>\n",
       "      <td>no</td>\n",
       "      <td>yes</td>\n",
       "      <td>2.0</td>\n",
       "      <td>furnished</td>\n",
       "    </tr>\n",
       "    <tr>\n",
       "      <th>1</th>\n",
       "      <td>12250000.0</td>\n",
       "      <td>8960.0</td>\n",
       "      <td>4 rooms</td>\n",
       "      <td>4 bathroom</td>\n",
       "      <td>4.0</td>\n",
       "      <td>yes</td>\n",
       "      <td>no</td>\n",
       "      <td>no</td>\n",
       "      <td>yes</td>\n",
       "      <td>3.0</td>\n",
       "      <td>furnished</td>\n",
       "    </tr>\n",
       "    <tr>\n",
       "      <th>2</th>\n",
       "      <td>12250000.0</td>\n",
       "      <td>9960.0</td>\n",
       "      <td>3 rooms</td>\n",
       "      <td>2 bathroom</td>\n",
       "      <td>2.0</td>\n",
       "      <td>yes</td>\n",
       "      <td>no</td>\n",
       "      <td>no</td>\n",
       "      <td>no</td>\n",
       "      <td>2.0</td>\n",
       "      <td>semi-furnished</td>\n",
       "    </tr>\n",
       "    <tr>\n",
       "      <th>3</th>\n",
       "      <td>12215000.0</td>\n",
       "      <td>7500.0</td>\n",
       "      <td>4 rooms</td>\n",
       "      <td>2 bathroom</td>\n",
       "      <td>2.0</td>\n",
       "      <td>yes</td>\n",
       "      <td>no</td>\n",
       "      <td>no</td>\n",
       "      <td>yes</td>\n",
       "      <td>3.0</td>\n",
       "      <td>furnished</td>\n",
       "    </tr>\n",
       "    <tr>\n",
       "      <th>4</th>\n",
       "      <td>11410000.0</td>\n",
       "      <td>NaN</td>\n",
       "      <td>4 rooms</td>\n",
       "      <td>1 bathroom</td>\n",
       "      <td>2.0</td>\n",
       "      <td>yes</td>\n",
       "      <td>yes</td>\n",
       "      <td>no</td>\n",
       "      <td>yes</td>\n",
       "      <td>2.0</td>\n",
       "      <td>furnished</td>\n",
       "    </tr>\n",
       "    <tr>\n",
       "      <th>...</th>\n",
       "      <td>...</td>\n",
       "      <td>...</td>\n",
       "      <td>...</td>\n",
       "      <td>...</td>\n",
       "      <td>...</td>\n",
       "      <td>...</td>\n",
       "      <td>...</td>\n",
       "      <td>...</td>\n",
       "      <td>...</td>\n",
       "      <td>...</td>\n",
       "      <td>...</td>\n",
       "    </tr>\n",
       "    <tr>\n",
       "      <th>527</th>\n",
       "      <td>1855000.0</td>\n",
       "      <td>2990.0</td>\n",
       "      <td>2 rooms</td>\n",
       "      <td>1 bathroom</td>\n",
       "      <td>1.0</td>\n",
       "      <td>no</td>\n",
       "      <td>no</td>\n",
       "      <td>no</td>\n",
       "      <td>no</td>\n",
       "      <td>1.0</td>\n",
       "      <td>unfurnished</td>\n",
       "    </tr>\n",
       "    <tr>\n",
       "      <th>528</th>\n",
       "      <td>1820000.0</td>\n",
       "      <td>NaN</td>\n",
       "      <td>2 rooms</td>\n",
       "      <td>1 bathroom</td>\n",
       "      <td>1.0</td>\n",
       "      <td>yes</td>\n",
       "      <td>no</td>\n",
       "      <td>no</td>\n",
       "      <td>no</td>\n",
       "      <td>2.0</td>\n",
       "      <td>unfurnished</td>\n",
       "    </tr>\n",
       "    <tr>\n",
       "      <th>529</th>\n",
       "      <td>1767150.0</td>\n",
       "      <td>2400.0</td>\n",
       "      <td>3 rooms</td>\n",
       "      <td>1 bathroom</td>\n",
       "      <td>1.0</td>\n",
       "      <td>no</td>\n",
       "      <td>no</td>\n",
       "      <td>no</td>\n",
       "      <td>no</td>\n",
       "      <td>0.0</td>\n",
       "      <td>semi-furnished</td>\n",
       "    </tr>\n",
       "    <tr>\n",
       "      <th>530</th>\n",
       "      <td>1750000.0</td>\n",
       "      <td>3620.0</td>\n",
       "      <td>2 rooms</td>\n",
       "      <td>1 bathroom</td>\n",
       "      <td>1.0</td>\n",
       "      <td>yes</td>\n",
       "      <td>no</td>\n",
       "      <td>no</td>\n",
       "      <td>no</td>\n",
       "      <td>0.0</td>\n",
       "      <td>unfurnished</td>\n",
       "    </tr>\n",
       "    <tr>\n",
       "      <th>531</th>\n",
       "      <td>1750000.0</td>\n",
       "      <td>3850.0</td>\n",
       "      <td>3 rooms</td>\n",
       "      <td>1 bathroom</td>\n",
       "      <td>2.0</td>\n",
       "      <td>yes</td>\n",
       "      <td>no</td>\n",
       "      <td>no</td>\n",
       "      <td>no</td>\n",
       "      <td>0.0</td>\n",
       "      <td>unfurnished</td>\n",
       "    </tr>\n",
       "  </tbody>\n",
       "</table>\n",
       "<p>532 rows × 11 columns</p>\n",
       "</div>"
      ],
      "text/plain": [
       "        h_price    area no_bedrooms no_bathrooms  total_stories mainroad_loc  \\\n",
       "0    13300000.0  7420.0     4 rooms   2 bathroom            3.0          yes   \n",
       "1    12250000.0  8960.0     4 rooms   4 bathroom            4.0          yes   \n",
       "2    12250000.0  9960.0     3 rooms   2 bathroom            2.0          yes   \n",
       "3    12215000.0  7500.0     4 rooms   2 bathroom            2.0          yes   \n",
       "4    11410000.0     NaN     4 rooms   1 bathroom            2.0          yes   \n",
       "..          ...     ...         ...          ...            ...          ...   \n",
       "527   1855000.0  2990.0     2 rooms   1 bathroom            1.0           no   \n",
       "528   1820000.0     NaN     2 rooms   1 bathroom            1.0          yes   \n",
       "529   1767150.0  2400.0     3 rooms   1 bathroom            1.0           no   \n",
       "530   1750000.0  3620.0     2 rooms   1 bathroom            1.0          yes   \n",
       "531   1750000.0  3850.0     3 rooms   1 bathroom            2.0          yes   \n",
       "\n",
       "    guestroom hotwater airconditioner  parking furnishingstatus  \n",
       "0          no       no            yes      2.0        furnished  \n",
       "1          no       no            yes      3.0        furnished  \n",
       "2          no       no             no      2.0   semi-furnished  \n",
       "3          no       no            yes      3.0        furnished  \n",
       "4         yes       no            yes      2.0        furnished  \n",
       "..        ...      ...            ...      ...              ...  \n",
       "527        no       no             no      1.0      unfurnished  \n",
       "528        no       no             no      2.0      unfurnished  \n",
       "529        no       no             no      0.0   semi-furnished  \n",
       "530        no       no             no      0.0      unfurnished  \n",
       "531        no       no             no      0.0      unfurnished  \n",
       "\n",
       "[532 rows x 11 columns]"
      ]
     },
     "execution_count": 17,
     "metadata": {},
     "output_type": "execute_result"
    }
   ],
   "source": [
    "df"
   ]
  },
  {
   "cell_type": "code",
   "execution_count": 18,
   "id": "02a7c56f",
   "metadata": {},
   "outputs": [
    {
     "data": {
      "text/plain": [
       "h_price              2\n",
       "area                16\n",
       "no_bedrooms          1\n",
       "no_bathrooms         1\n",
       "total_stories        2\n",
       "mainroad_loc         2\n",
       "guestroom            2\n",
       "hotwater             1\n",
       "airconditioner       2\n",
       "parking              1\n",
       "furnishingstatus     2\n",
       "dtype: int64"
      ]
     },
     "execution_count": 18,
     "metadata": {},
     "output_type": "execute_result"
    }
   ],
   "source": [
    "df.isnull().sum()"
   ]
  },
  {
   "cell_type": "code",
   "execution_count": 19,
   "id": "4356b56f",
   "metadata": {},
   "outputs": [
    {
     "name": "stderr",
     "output_type": "stream",
     "text": [
      "C:\\Users\\himanshu\\anaconda3\\lib\\site-packages\\seaborn\\distributions.py:2619: FutureWarning: `distplot` is a deprecated function and will be removed in a future version. Please adapt your code to use either `displot` (a figure-level function with similar flexibility) or `histplot` (an axes-level function for histograms).\n",
      "  warnings.warn(msg, FutureWarning)\n"
     ]
    },
    {
     "data": {
      "text/plain": [
       "<AxesSubplot:xlabel='area', ylabel='Density'>"
      ]
     },
     "execution_count": 19,
     "metadata": {},
     "output_type": "execute_result"
    },
    {
     "data": {
      "image/png": "[encoded data removed]",
      "text/plain": [
       "<Figure size 432x288 with 1 Axes>"
      ]
     },
     "metadata": {
      "needs_background": "light"
     },
     "output_type": "display_data"
    }
   ],
   "source": [
    "sns.distplot(df['area'])\n"
   ]
  },
  {
   "cell_type": "code",
   "execution_count": 20,
   "id": "45089491",
   "metadata": {},
   "outputs": [],
   "source": [
    "median_val=df['area'].median()\n"
   ]
  },
  {
   "cell_type": "code",
   "execution_count": 21,
   "id": "a9a6c54d",
   "metadata": {},
   "outputs": [],
   "source": [
    "df['area']=df['area'].fillna(median_val)"
   ]
  },
  {
   "cell_type": "code",
   "execution_count": 22,
   "id": "c83ba067",
   "metadata": {},
   "outputs": [
    {
     "data": {
      "text/html": [
       "<div>\n",
       "<style scoped>\n",
       "    .dataframe tbody tr th:only-of-type {\n",
       "        vertical-align: middle;\n",
       "    }\n",
       "\n",
       "    .dataframe tbody tr th {\n",
       "        vertical-align: top;\n",
       "    }\n",
       "\n",
       "    .dataframe thead th {\n",
       "        text-align: right;\n",
       "    }\n",
       "</style>\n",
       "<table border=\"1\" class=\"dataframe\">\n",
       "  <thead>\n",
       "    <tr style=\"text-align: right;\">\n",
       "      <th></th>\n",
       "      <th>h_price</th>\n",
       "      <th>area</th>\n",
       "      <th>no_bedrooms</th>\n",
       "      <th>no_bathrooms</th>\n",
       "      <th>total_stories</th>\n",
       "      <th>mainroad_loc</th>\n",
       "      <th>guestroom</th>\n",
       "      <th>hotwater</th>\n",
       "      <th>airconditioner</th>\n",
       "      <th>parking</th>\n",
       "      <th>furnishingstatus</th>\n",
       "    </tr>\n",
       "  </thead>\n",
       "  <tbody>\n",
       "    <tr>\n",
       "      <th>0</th>\n",
       "      <td>13300000.0</td>\n",
       "      <td>7420.0</td>\n",
       "      <td>4 rooms</td>\n",
       "      <td>2 bathroom</td>\n",
       "      <td>3.0</td>\n",
       "      <td>yes</td>\n",
       "      <td>no</td>\n",
       "      <td>no</td>\n",
       "      <td>yes</td>\n",
       "      <td>2.0</td>\n",
       "      <td>furnished</td>\n",
       "    </tr>\n",
       "    <tr>\n",
       "      <th>1</th>\n",
       "      <td>12250000.0</td>\n",
       "      <td>8960.0</td>\n",
       "      <td>4 rooms</td>\n",
       "      <td>4 bathroom</td>\n",
       "      <td>4.0</td>\n",
       "      <td>yes</td>\n",
       "      <td>no</td>\n",
       "      <td>no</td>\n",
       "      <td>yes</td>\n",
       "      <td>3.0</td>\n",
       "      <td>furnished</td>\n",
       "    </tr>\n",
       "    <tr>\n",
       "      <th>2</th>\n",
       "      <td>12250000.0</td>\n",
       "      <td>9960.0</td>\n",
       "      <td>3 rooms</td>\n",
       "      <td>2 bathroom</td>\n",
       "      <td>2.0</td>\n",
       "      <td>yes</td>\n",
       "      <td>no</td>\n",
       "      <td>no</td>\n",
       "      <td>no</td>\n",
       "      <td>2.0</td>\n",
       "      <td>semi-furnished</td>\n",
       "    </tr>\n",
       "    <tr>\n",
       "      <th>3</th>\n",
       "      <td>12215000.0</td>\n",
       "      <td>7500.0</td>\n",
       "      <td>4 rooms</td>\n",
       "      <td>2 bathroom</td>\n",
       "      <td>2.0</td>\n",
       "      <td>yes</td>\n",
       "      <td>no</td>\n",
       "      <td>no</td>\n",
       "      <td>yes</td>\n",
       "      <td>3.0</td>\n",
       "      <td>furnished</td>\n",
       "    </tr>\n",
       "    <tr>\n",
       "      <th>4</th>\n",
       "      <td>11410000.0</td>\n",
       "      <td>4600.0</td>\n",
       "      <td>4 rooms</td>\n",
       "      <td>1 bathroom</td>\n",
       "      <td>2.0</td>\n",
       "      <td>yes</td>\n",
       "      <td>yes</td>\n",
       "      <td>no</td>\n",
       "      <td>yes</td>\n",
       "      <td>2.0</td>\n",
       "      <td>furnished</td>\n",
       "    </tr>\n",
       "    <tr>\n",
       "      <th>...</th>\n",
       "      <td>...</td>\n",
       "      <td>...</td>\n",
       "      <td>...</td>\n",
       "      <td>...</td>\n",
       "      <td>...</td>\n",
       "      <td>...</td>\n",
       "      <td>...</td>\n",
       "      <td>...</td>\n",
       "      <td>...</td>\n",
       "      <td>...</td>\n",
       "      <td>...</td>\n",
       "    </tr>\n",
       "    <tr>\n",
       "      <th>527</th>\n",
       "      <td>1855000.0</td>\n",
       "      <td>2990.0</td>\n",
       "      <td>2 rooms</td>\n",
       "      <td>1 bathroom</td>\n",
       "      <td>1.0</td>\n",
       "      <td>no</td>\n",
       "      <td>no</td>\n",
       "      <td>no</td>\n",
       "      <td>no</td>\n",
       "      <td>1.0</td>\n",
       "      <td>unfurnished</td>\n",
       "    </tr>\n",
       "    <tr>\n",
       "      <th>528</th>\n",
       "      <td>1820000.0</td>\n",
       "      <td>4600.0</td>\n",
       "      <td>2 rooms</td>\n",
       "      <td>1 bathroom</td>\n",
       "      <td>1.0</td>\n",
       "      <td>yes</td>\n",
       "      <td>no</td>\n",
       "      <td>no</td>\n",
       "      <td>no</td>\n",
       "      <td>2.0</td>\n",
       "      <td>unfurnished</td>\n",
       "    </tr>\n",
       "    <tr>\n",
       "      <th>529</th>\n",
       "      <td>1767150.0</td>\n",
       "      <td>2400.0</td>\n",
       "      <td>3 rooms</td>\n",
       "      <td>1 bathroom</td>\n",
       "      <td>1.0</td>\n",
       "      <td>no</td>\n",
       "      <td>no</td>\n",
       "      <td>no</td>\n",
       "      <td>no</td>\n",
       "      <td>0.0</td>\n",
       "      <td>semi-furnished</td>\n",
       "    </tr>\n",
       "    <tr>\n",
       "      <th>530</th>\n",
       "      <td>1750000.0</td>\n",
       "      <td>3620.0</td>\n",
       "      <td>2 rooms</td>\n",
       "      <td>1 bathroom</td>\n",
       "      <td>1.0</td>\n",
       "      <td>yes</td>\n",
       "      <td>no</td>\n",
       "      <td>no</td>\n",
       "      <td>no</td>\n",
       "      <td>0.0</td>\n",
       "      <td>unfurnished</td>\n",
       "    </tr>\n",
       "    <tr>\n",
       "      <th>531</th>\n",
       "      <td>1750000.0</td>\n",
       "      <td>3850.0</td>\n",
       "      <td>3 rooms</td>\n",
       "      <td>1 bathroom</td>\n",
       "      <td>2.0</td>\n",
       "      <td>yes</td>\n",
       "      <td>no</td>\n",
       "      <td>no</td>\n",
       "      <td>no</td>\n",
       "      <td>0.0</td>\n",
       "      <td>unfurnished</td>\n",
       "    </tr>\n",
       "  </tbody>\n",
       "</table>\n",
       "<p>532 rows × 11 columns</p>\n",
       "</div>"
      ],
      "text/plain": [
       "        h_price    area no_bedrooms no_bathrooms  total_stories mainroad_loc  \\\n",
       "0    13300000.0  7420.0     4 rooms   2 bathroom            3.0          yes   \n",
       "1    12250000.0  8960.0     4 rooms   4 bathroom            4.0          yes   \n",
       "2    12250000.0  9960.0     3 rooms   2 bathroom            2.0          yes   \n",
       "3    12215000.0  7500.0     4 rooms   2 bathroom            2.0          yes   \n",
       "4    11410000.0  4600.0     4 rooms   1 bathroom            2.0          yes   \n",
       "..          ...     ...         ...          ...            ...          ...   \n",
       "527   1855000.0  2990.0     2 rooms   1 bathroom            1.0           no   \n",
       "528   1820000.0  4600.0     2 rooms   1 bathroom            1.0          yes   \n",
       "529   1767150.0  2400.0     3 rooms   1 bathroom            1.0           no   \n",
       "530   1750000.0  3620.0     2 rooms   1 bathroom            1.0          yes   \n",
       "531   1750000.0  3850.0     3 rooms   1 bathroom            2.0          yes   \n",
       "\n",
       "    guestroom hotwater airconditioner  parking furnishingstatus  \n",
       "0          no       no            yes      2.0        furnished  \n",
       "1          no       no            yes      3.0        furnished  \n",
       "2          no       no             no      2.0   semi-furnished  \n",
       "3          no       no            yes      3.0        furnished  \n",
       "4         yes       no            yes      2.0        furnished  \n",
       "..        ...      ...            ...      ...              ...  \n",
       "527        no       no             no      1.0      unfurnished  \n",
       "528        no       no             no      2.0      unfurnished  \n",
       "529        no       no             no      0.0   semi-furnished  \n",
       "530        no       no             no      0.0      unfurnished  \n",
       "531        no       no             no      0.0      unfurnished  \n",
       "\n",
       "[532 rows x 11 columns]"
      ]
     },
     "execution_count": 22,
     "metadata": {},
     "output_type": "execute_result"
    }
   ],
   "source": [
    "df"
   ]
  },
  {
   "cell_type": "code",
   "execution_count": 23,
   "id": "5d353435",
   "metadata": {},
   "outputs": [
    {
     "data": {
      "text/plain": [
       "h_price             2\n",
       "area                0\n",
       "no_bedrooms         1\n",
       "no_bathrooms        1\n",
       "total_stories       2\n",
       "mainroad_loc        2\n",
       "guestroom           2\n",
       "hotwater            1\n",
       "airconditioner      2\n",
       "parking             1\n",
       "furnishingstatus    2\n",
       "dtype: int64"
      ]
     },
     "execution_count": 23,
     "metadata": {},
     "output_type": "execute_result"
    }
   ],
   "source": [
    "df.isnull().sum()"
   ]
  },
  {
   "cell_type": "code",
   "execution_count": 24,
   "id": "e61333ab",
   "metadata": {},
   "outputs": [],
   "source": [
    "df.dropna(inplace=True)"
   ]
  },
  {
   "cell_type": "code",
   "execution_count": 25,
   "id": "0e217252",
   "metadata": {},
   "outputs": [
    {
     "data": {
      "text/html": [
       "<div>\n",
       "<style scoped>\n",
       "    .dataframe tbody tr th:only-of-type {\n",
       "        vertical-align: middle;\n",
       "    }\n",
       "\n",
       "    .dataframe tbody tr th {\n",
       "        vertical-align: top;\n",
       "    }\n",
       "\n",
       "    .dataframe thead th {\n",
       "        text-align: right;\n",
       "    }\n",
       "</style>\n",
       "<table border=\"1\" class=\"dataframe\">\n",
       "  <thead>\n",
       "    <tr style=\"text-align: right;\">\n",
       "      <th></th>\n",
       "      <th>h_price</th>\n",
       "      <th>area</th>\n",
       "      <th>no_bedrooms</th>\n",
       "      <th>no_bathrooms</th>\n",
       "      <th>total_stories</th>\n",
       "      <th>mainroad_loc</th>\n",
       "      <th>guestroom</th>\n",
       "      <th>hotwater</th>\n",
       "      <th>airconditioner</th>\n",
       "      <th>parking</th>\n",
       "      <th>furnishingstatus</th>\n",
       "    </tr>\n",
       "  </thead>\n",
       "  <tbody>\n",
       "    <tr>\n",
       "      <th>0</th>\n",
       "      <td>13300000.0</td>\n",
       "      <td>7420.0</td>\n",
       "      <td>4 rooms</td>\n",
       "      <td>2 bathroom</td>\n",
       "      <td>3.0</td>\n",
       "      <td>yes</td>\n",
       "      <td>no</td>\n",
       "      <td>no</td>\n",
       "      <td>yes</td>\n",
       "      <td>2.0</td>\n",
       "      <td>furnished</td>\n",
       "    </tr>\n",
       "    <tr>\n",
       "      <th>1</th>\n",
       "      <td>12250000.0</td>\n",
       "      <td>8960.0</td>\n",
       "      <td>4 rooms</td>\n",
       "      <td>4 bathroom</td>\n",
       "      <td>4.0</td>\n",
       "      <td>yes</td>\n",
       "      <td>no</td>\n",
       "      <td>no</td>\n",
       "      <td>yes</td>\n",
       "      <td>3.0</td>\n",
       "      <td>furnished</td>\n",
       "    </tr>\n",
       "    <tr>\n",
       "      <th>2</th>\n",
       "      <td>12250000.0</td>\n",
       "      <td>9960.0</td>\n",
       "      <td>3 rooms</td>\n",
       "      <td>2 bathroom</td>\n",
       "      <td>2.0</td>\n",
       "      <td>yes</td>\n",
       "      <td>no</td>\n",
       "      <td>no</td>\n",
       "      <td>no</td>\n",
       "      <td>2.0</td>\n",
       "      <td>semi-furnished</td>\n",
       "    </tr>\n",
       "    <tr>\n",
       "      <th>3</th>\n",
       "      <td>12215000.0</td>\n",
       "      <td>7500.0</td>\n",
       "      <td>4 rooms</td>\n",
       "      <td>2 bathroom</td>\n",
       "      <td>2.0</td>\n",
       "      <td>yes</td>\n",
       "      <td>no</td>\n",
       "      <td>no</td>\n",
       "      <td>yes</td>\n",
       "      <td>3.0</td>\n",
       "      <td>furnished</td>\n",
       "    </tr>\n",
       "    <tr>\n",
       "      <th>4</th>\n",
       "      <td>11410000.0</td>\n",
       "      <td>4600.0</td>\n",
       "      <td>4 rooms</td>\n",
       "      <td>1 bathroom</td>\n",
       "      <td>2.0</td>\n",
       "      <td>yes</td>\n",
       "      <td>yes</td>\n",
       "      <td>no</td>\n",
       "      <td>yes</td>\n",
       "      <td>2.0</td>\n",
       "      <td>furnished</td>\n",
       "    </tr>\n",
       "    <tr>\n",
       "      <th>...</th>\n",
       "      <td>...</td>\n",
       "      <td>...</td>\n",
       "      <td>...</td>\n",
       "      <td>...</td>\n",
       "      <td>...</td>\n",
       "      <td>...</td>\n",
       "      <td>...</td>\n",
       "      <td>...</td>\n",
       "      <td>...</td>\n",
       "      <td>...</td>\n",
       "      <td>...</td>\n",
       "    </tr>\n",
       "    <tr>\n",
       "      <th>527</th>\n",
       "      <td>1855000.0</td>\n",
       "      <td>2990.0</td>\n",
       "      <td>2 rooms</td>\n",
       "      <td>1 bathroom</td>\n",
       "      <td>1.0</td>\n",
       "      <td>no</td>\n",
       "      <td>no</td>\n",
       "      <td>no</td>\n",
       "      <td>no</td>\n",
       "      <td>1.0</td>\n",
       "      <td>unfurnished</td>\n",
       "    </tr>\n",
       "    <tr>\n",
       "      <th>528</th>\n",
       "      <td>1820000.0</td>\n",
       "      <td>4600.0</td>\n",
       "      <td>2 rooms</td>\n",
       "      <td>1 bathroom</td>\n",
       "      <td>1.0</td>\n",
       "      <td>yes</td>\n",
       "      <td>no</td>\n",
       "      <td>no</td>\n",
       "      <td>no</td>\n",
       "      <td>2.0</td>\n",
       "      <td>unfurnished</td>\n",
       "    </tr>\n",
       "    <tr>\n",
       "      <th>529</th>\n",
       "      <td>1767150.0</td>\n",
       "      <td>2400.0</td>\n",
       "      <td>3 rooms</td>\n",
       "      <td>1 bathroom</td>\n",
       "      <td>1.0</td>\n",
       "      <td>no</td>\n",
       "      <td>no</td>\n",
       "      <td>no</td>\n",
       "      <td>no</td>\n",
       "      <td>0.0</td>\n",
       "      <td>semi-furnished</td>\n",
       "    </tr>\n",
       "    <tr>\n",
       "      <th>530</th>\n",
       "      <td>1750000.0</td>\n",
       "      <td>3620.0</td>\n",
       "      <td>2 rooms</td>\n",
       "      <td>1 bathroom</td>\n",
       "      <td>1.0</td>\n",
       "      <td>yes</td>\n",
       "      <td>no</td>\n",
       "      <td>no</td>\n",
       "      <td>no</td>\n",
       "      <td>0.0</td>\n",
       "      <td>unfurnished</td>\n",
       "    </tr>\n",
       "    <tr>\n",
       "      <th>531</th>\n",
       "      <td>1750000.0</td>\n",
       "      <td>3850.0</td>\n",
       "      <td>3 rooms</td>\n",
       "      <td>1 bathroom</td>\n",
       "      <td>2.0</td>\n",
       "      <td>yes</td>\n",
       "      <td>no</td>\n",
       "      <td>no</td>\n",
       "      <td>no</td>\n",
       "      <td>0.0</td>\n",
       "      <td>unfurnished</td>\n",
       "    </tr>\n",
       "  </tbody>\n",
       "</table>\n",
       "<p>528 rows × 11 columns</p>\n",
       "</div>"
      ],
      "text/plain": [
       "        h_price    area no_bedrooms no_bathrooms  total_stories mainroad_loc  \\\n",
       "0    13300000.0  7420.0     4 rooms   2 bathroom            3.0          yes   \n",
       "1    12250000.0  8960.0     4 rooms   4 bathroom            4.0          yes   \n",
       "2    12250000.0  9960.0     3 rooms   2 bathroom            2.0          yes   \n",
       "3    12215000.0  7500.0     4 rooms   2 bathroom            2.0          yes   \n",
       "4    11410000.0  4600.0     4 rooms   1 bathroom            2.0          yes   \n",
       "..          ...     ...         ...          ...            ...          ...   \n",
       "527   1855000.0  2990.0     2 rooms   1 bathroom            1.0           no   \n",
       "528   1820000.0  4600.0     2 rooms   1 bathroom            1.0          yes   \n",
       "529   1767150.0  2400.0     3 rooms   1 bathroom            1.0           no   \n",
       "530   1750000.0  3620.0     2 rooms   1 bathroom            1.0          yes   \n",
       "531   1750000.0  3850.0     3 rooms   1 bathroom            2.0          yes   \n",
       "\n",
       "    guestroom hotwater airconditioner  parking furnishingstatus  \n",
       "0          no       no            yes      2.0        furnished  \n",
       "1          no       no            yes      3.0        furnished  \n",
       "2          no       no             no      2.0   semi-furnished  \n",
       "3          no       no            yes      3.0        furnished  \n",
       "4         yes       no            yes      2.0        furnished  \n",
       "..        ...      ...            ...      ...              ...  \n",
       "527        no       no             no      1.0      unfurnished  \n",
       "528        no       no             no      2.0      unfurnished  \n",
       "529        no       no             no      0.0   semi-furnished  \n",
       "530        no       no             no      0.0      unfurnished  \n",
       "531        no       no             no      0.0      unfurnished  \n",
       "\n",
       "[528 rows x 11 columns]"
      ]
     },
     "execution_count": 25,
     "metadata": {},
     "output_type": "execute_result"
    }
   ],
   "source": [
    "df"
   ]
  },
  {
   "cell_type": "code",
   "execution_count": 26,
   "id": "f49b849c",
   "metadata": {},
   "outputs": [
    {
     "data": {
      "text/html": [
       "<div>\n",
       "<style scoped>\n",
       "    .dataframe tbody tr th:only-of-type {\n",
       "        vertical-align: middle;\n",
       "    }\n",
       "\n",
       "    .dataframe tbody tr th {\n",
       "        vertical-align: top;\n",
       "    }\n",
       "\n",
       "    .dataframe thead th {\n",
       "        text-align: right;\n",
       "    }\n",
       "</style>\n",
       "<table border=\"1\" class=\"dataframe\">\n",
       "  <thead>\n",
       "    <tr style=\"text-align: right;\">\n",
       "      <th></th>\n",
       "      <th>h_price</th>\n",
       "      <th>area</th>\n",
       "      <th>total_stories</th>\n",
       "      <th>parking</th>\n",
       "    </tr>\n",
       "  </thead>\n",
       "  <tbody>\n",
       "    <tr>\n",
       "      <th>count</th>\n",
       "      <td>5.280000e+02</td>\n",
       "      <td>528.000000</td>\n",
       "      <td>528.000000</td>\n",
       "      <td>528.000000</td>\n",
       "    </tr>\n",
       "    <tr>\n",
       "      <th>mean</th>\n",
       "      <td>4.775166e+06</td>\n",
       "      <td>5158.950758</td>\n",
       "      <td>1.803030</td>\n",
       "      <td>0.695076</td>\n",
       "    </tr>\n",
       "    <tr>\n",
       "      <th>std</th>\n",
       "      <td>1.873249e+06</td>\n",
       "      <td>2170.375340</td>\n",
       "      <td>0.864123</td>\n",
       "      <td>0.860152</td>\n",
       "    </tr>\n",
       "    <tr>\n",
       "      <th>min</th>\n",
       "      <td>1.750000e+06</td>\n",
       "      <td>1650.000000</td>\n",
       "      <td>1.000000</td>\n",
       "      <td>0.000000</td>\n",
       "    </tr>\n",
       "    <tr>\n",
       "      <th>25%</th>\n",
       "      <td>3.465000e+06</td>\n",
       "      <td>3600.000000</td>\n",
       "      <td>1.000000</td>\n",
       "      <td>0.000000</td>\n",
       "    </tr>\n",
       "    <tr>\n",
       "      <th>50%</th>\n",
       "      <td>4.340000e+06</td>\n",
       "      <td>4600.000000</td>\n",
       "      <td>2.000000</td>\n",
       "      <td>0.000000</td>\n",
       "    </tr>\n",
       "    <tr>\n",
       "      <th>75%</th>\n",
       "      <td>5.740000e+06</td>\n",
       "      <td>6360.000000</td>\n",
       "      <td>2.000000</td>\n",
       "      <td>1.000000</td>\n",
       "    </tr>\n",
       "    <tr>\n",
       "      <th>max</th>\n",
       "      <td>1.330000e+07</td>\n",
       "      <td>16200.000000</td>\n",
       "      <td>4.000000</td>\n",
       "      <td>3.000000</td>\n",
       "    </tr>\n",
       "  </tbody>\n",
       "</table>\n",
       "</div>"
      ],
      "text/plain": [
       "            h_price          area  total_stories     parking\n",
       "count  5.280000e+02    528.000000     528.000000  528.000000\n",
       "mean   4.775166e+06   5158.950758       1.803030    0.695076\n",
       "std    1.873249e+06   2170.375340       0.864123    0.860152\n",
       "min    1.750000e+06   1650.000000       1.000000    0.000000\n",
       "25%    3.465000e+06   3600.000000       1.000000    0.000000\n",
       "50%    4.340000e+06   4600.000000       2.000000    0.000000\n",
       "75%    5.740000e+06   6360.000000       2.000000    1.000000\n",
       "max    1.330000e+07  16200.000000       4.000000    3.000000"
      ]
     },
     "execution_count": 26,
     "metadata": {},
     "output_type": "execute_result"
    }
   ],
   "source": [
    "df.describe()"
   ]
  },
  {
   "cell_type": "code",
   "execution_count": 27,
   "id": "832e0b4d",
   "metadata": {},
   "outputs": [
    {
     "name": "stdout",
     "output_type": "stream",
     "text": [
      "<class 'pandas.core.frame.DataFrame'>\n",
      "Int64Index: 528 entries, 0 to 531\n",
      "Data columns (total 11 columns):\n",
      " #   Column            Non-Null Count  Dtype  \n",
      "---  ------            --------------  -----  \n",
      " 0   h_price           528 non-null    float64\n",
      " 1   area              528 non-null    float64\n",
      " 2   no_bedrooms       528 non-null    object \n",
      " 3   no_bathrooms      528 non-null    object \n",
      " 4   total_stories     528 non-null    float64\n",
      " 5   mainroad_loc      528 non-null    object \n",
      " 6   guestroom         528 non-null    object \n",
      " 7   hotwater          528 non-null    object \n",
      " 8   airconditioner    528 non-null    object \n",
      " 9   parking           528 non-null    float64\n",
      " 10  furnishingstatus  528 non-null    object \n",
      "dtypes: float64(4), object(7)\n",
      "memory usage: 49.5+ KB\n"
     ]
    }
   ],
   "source": [
    "df.info()"
   ]
  },
  {
   "cell_type": "code",
   "execution_count": 28,
   "id": "4611dae7",
   "metadata": {},
   "outputs": [
    {
     "name": "stderr",
     "output_type": "stream",
     "text": [
      "C:\\Users\\himanshu\\anaconda3\\lib\\site-packages\\seaborn\\_decorators.py:36: FutureWarning: Pass the following variable as a keyword arg: x. From version 0.12, the only valid positional argument will be `data`, and passing other arguments without an explicit keyword will result in an error or misinterpretation.\n",
      "  warnings.warn(\n"
     ]
    },
    {
     "data": {
      "text/plain": [
       "<AxesSubplot:xlabel='area'>"
      ]
     },
     "execution_count": 28,
     "metadata": {},
     "output_type": "execute_result"
    },
    {
     "data": {
      "image/png": "[encoded data removed]",
      "text/plain": [
       "<Figure size 432x288 with 1 Axes>"
      ]
     },
     "metadata": {
      "needs_background": "light"
     },
     "output_type": "display_data"
    }
   ],
   "source": [
    "sns.boxplot(df['area'])"
   ]
  },
  {
   "cell_type": "code",
   "execution_count": 29,
   "id": "ea7bfc4e",
   "metadata": {},
   "outputs": [],
   "source": [
    "q1=df['area'].quantile(0.25)"
   ]
  },
  {
   "cell_type": "code",
   "execution_count": 30,
   "id": "ab492491",
   "metadata": {},
   "outputs": [],
   "source": [
    "q3=df['area'].quantile(0.75)"
   ]
  },
  {
   "cell_type": "code",
   "execution_count": 31,
   "id": "3fdb7aaa",
   "metadata": {},
   "outputs": [],
   "source": [
    "IQR=q3-q1"
   ]
  },
  {
   "cell_type": "code",
   "execution_count": 32,
   "id": "f9189d0d",
   "metadata": {},
   "outputs": [],
   "source": [
    "lower=q1-1.5*IQR"
   ]
  },
  {
   "cell_type": "code",
   "execution_count": 33,
   "id": "cdaa1b7b",
   "metadata": {},
   "outputs": [],
   "source": [
    "higher=q3+1.5*IQR"
   ]
  },
  {
   "cell_type": "code",
   "execution_count": 34,
   "id": "77715372",
   "metadata": {},
   "outputs": [],
   "source": [
    "df=df[(df['area']>lower) & (df['area']<higher)]"
   ]
  },
  {
   "cell_type": "code",
   "execution_count": 35,
   "id": "a4bfdc2c",
   "metadata": {},
   "outputs": [
    {
     "data": {
      "text/html": [
       "<div>\n",
       "<style scoped>\n",
       "    .dataframe tbody tr th:only-of-type {\n",
       "        vertical-align: middle;\n",
       "    }\n",
       "\n",
       "    .dataframe tbody tr th {\n",
       "        vertical-align: top;\n",
       "    }\n",
       "\n",
       "    .dataframe thead th {\n",
       "        text-align: right;\n",
       "    }\n",
       "</style>\n",
       "<table border=\"1\" class=\"dataframe\">\n",
       "  <thead>\n",
       "    <tr style=\"text-align: right;\">\n",
       "      <th></th>\n",
       "      <th>h_price</th>\n",
       "      <th>area</th>\n",
       "      <th>no_bedrooms</th>\n",
       "      <th>no_bathrooms</th>\n",
       "      <th>total_stories</th>\n",
       "      <th>mainroad_loc</th>\n",
       "      <th>guestroom</th>\n",
       "      <th>hotwater</th>\n",
       "      <th>airconditioner</th>\n",
       "      <th>parking</th>\n",
       "      <th>furnishingstatus</th>\n",
       "    </tr>\n",
       "  </thead>\n",
       "  <tbody>\n",
       "    <tr>\n",
       "      <th>0</th>\n",
       "      <td>13300000.0</td>\n",
       "      <td>7420.0</td>\n",
       "      <td>4 rooms</td>\n",
       "      <td>2 bathroom</td>\n",
       "      <td>3.0</td>\n",
       "      <td>yes</td>\n",
       "      <td>no</td>\n",
       "      <td>no</td>\n",
       "      <td>yes</td>\n",
       "      <td>2.0</td>\n",
       "      <td>furnished</td>\n",
       "    </tr>\n",
       "    <tr>\n",
       "      <th>1</th>\n",
       "      <td>12250000.0</td>\n",
       "      <td>8960.0</td>\n",
       "      <td>4 rooms</td>\n",
       "      <td>4 bathroom</td>\n",
       "      <td>4.0</td>\n",
       "      <td>yes</td>\n",
       "      <td>no</td>\n",
       "      <td>no</td>\n",
       "      <td>yes</td>\n",
       "      <td>3.0</td>\n",
       "      <td>furnished</td>\n",
       "    </tr>\n",
       "    <tr>\n",
       "      <th>2</th>\n",
       "      <td>12250000.0</td>\n",
       "      <td>9960.0</td>\n",
       "      <td>3 rooms</td>\n",
       "      <td>2 bathroom</td>\n",
       "      <td>2.0</td>\n",
       "      <td>yes</td>\n",
       "      <td>no</td>\n",
       "      <td>no</td>\n",
       "      <td>no</td>\n",
       "      <td>2.0</td>\n",
       "      <td>semi-furnished</td>\n",
       "    </tr>\n",
       "    <tr>\n",
       "      <th>3</th>\n",
       "      <td>12215000.0</td>\n",
       "      <td>7500.0</td>\n",
       "      <td>4 rooms</td>\n",
       "      <td>2 bathroom</td>\n",
       "      <td>2.0</td>\n",
       "      <td>yes</td>\n",
       "      <td>no</td>\n",
       "      <td>no</td>\n",
       "      <td>yes</td>\n",
       "      <td>3.0</td>\n",
       "      <td>furnished</td>\n",
       "    </tr>\n",
       "    <tr>\n",
       "      <th>4</th>\n",
       "      <td>11410000.0</td>\n",
       "      <td>4600.0</td>\n",
       "      <td>4 rooms</td>\n",
       "      <td>1 bathroom</td>\n",
       "      <td>2.0</td>\n",
       "      <td>yes</td>\n",
       "      <td>yes</td>\n",
       "      <td>no</td>\n",
       "      <td>yes</td>\n",
       "      <td>2.0</td>\n",
       "      <td>furnished</td>\n",
       "    </tr>\n",
       "    <tr>\n",
       "      <th>...</th>\n",
       "      <td>...</td>\n",
       "      <td>...</td>\n",
       "      <td>...</td>\n",
       "      <td>...</td>\n",
       "      <td>...</td>\n",
       "      <td>...</td>\n",
       "      <td>...</td>\n",
       "      <td>...</td>\n",
       "      <td>...</td>\n",
       "      <td>...</td>\n",
       "      <td>...</td>\n",
       "    </tr>\n",
       "    <tr>\n",
       "      <th>527</th>\n",
       "      <td>1855000.0</td>\n",
       "      <td>2990.0</td>\n",
       "      <td>2 rooms</td>\n",
       "      <td>1 bathroom</td>\n",
       "      <td>1.0</td>\n",
       "      <td>no</td>\n",
       "      <td>no</td>\n",
       "      <td>no</td>\n",
       "      <td>no</td>\n",
       "      <td>1.0</td>\n",
       "      <td>unfurnished</td>\n",
       "    </tr>\n",
       "    <tr>\n",
       "      <th>528</th>\n",
       "      <td>1820000.0</td>\n",
       "      <td>4600.0</td>\n",
       "      <td>2 rooms</td>\n",
       "      <td>1 bathroom</td>\n",
       "      <td>1.0</td>\n",
       "      <td>yes</td>\n",
       "      <td>no</td>\n",
       "      <td>no</td>\n",
       "      <td>no</td>\n",
       "      <td>2.0</td>\n",
       "      <td>unfurnished</td>\n",
       "    </tr>\n",
       "    <tr>\n",
       "      <th>529</th>\n",
       "      <td>1767150.0</td>\n",
       "      <td>2400.0</td>\n",
       "      <td>3 rooms</td>\n",
       "      <td>1 bathroom</td>\n",
       "      <td>1.0</td>\n",
       "      <td>no</td>\n",
       "      <td>no</td>\n",
       "      <td>no</td>\n",
       "      <td>no</td>\n",
       "      <td>0.0</td>\n",
       "      <td>semi-furnished</td>\n",
       "    </tr>\n",
       "    <tr>\n",
       "      <th>530</th>\n",
       "      <td>1750000.0</td>\n",
       "      <td>3620.0</td>\n",
       "      <td>2 rooms</td>\n",
       "      <td>1 bathroom</td>\n",
       "      <td>1.0</td>\n",
       "      <td>yes</td>\n",
       "      <td>no</td>\n",
       "      <td>no</td>\n",
       "      <td>no</td>\n",
       "      <td>0.0</td>\n",
       "      <td>unfurnished</td>\n",
       "    </tr>\n",
       "    <tr>\n",
       "      <th>531</th>\n",
       "      <td>1750000.0</td>\n",
       "      <td>3850.0</td>\n",
       "      <td>3 rooms</td>\n",
       "      <td>1 bathroom</td>\n",
       "      <td>2.0</td>\n",
       "      <td>yes</td>\n",
       "      <td>no</td>\n",
       "      <td>no</td>\n",
       "      <td>no</td>\n",
       "      <td>0.0</td>\n",
       "      <td>unfurnished</td>\n",
       "    </tr>\n",
       "  </tbody>\n",
       "</table>\n",
       "<p>513 rows × 11 columns</p>\n",
       "</div>"
      ],
      "text/plain": [
       "        h_price    area no_bedrooms no_bathrooms  total_stories mainroad_loc  \\\n",
       "0    13300000.0  7420.0     4 rooms   2 bathroom            3.0          yes   \n",
       "1    12250000.0  8960.0     4 rooms   4 bathroom            4.0          yes   \n",
       "2    12250000.0  9960.0     3 rooms   2 bathroom            2.0          yes   \n",
       "3    12215000.0  7500.0     4 rooms   2 bathroom            2.0          yes   \n",
       "4    11410000.0  4600.0     4 rooms   1 bathroom            2.0          yes   \n",
       "..          ...     ...         ...          ...            ...          ...   \n",
       "527   1855000.0  2990.0     2 rooms   1 bathroom            1.0           no   \n",
       "528   1820000.0  4600.0     2 rooms   1 bathroom            1.0          yes   \n",
       "529   1767150.0  2400.0     3 rooms   1 bathroom            1.0           no   \n",
       "530   1750000.0  3620.0     2 rooms   1 bathroom            1.0          yes   \n",
       "531   1750000.0  3850.0     3 rooms   1 bathroom            2.0          yes   \n",
       "\n",
       "    guestroom hotwater airconditioner  parking furnishingstatus  \n",
       "0          no       no            yes      2.0        furnished  \n",
       "1          no       no            yes      3.0        furnished  \n",
       "2          no       no             no      2.0   semi-furnished  \n",
       "3          no       no            yes      3.0        furnished  \n",
       "4         yes       no            yes      2.0        furnished  \n",
       "..        ...      ...            ...      ...              ...  \n",
       "527        no       no             no      1.0      unfurnished  \n",
       "528        no       no             no      2.0      unfurnished  \n",
       "529        no       no             no      0.0   semi-furnished  \n",
       "530        no       no             no      0.0      unfurnished  \n",
       "531        no       no             no      0.0      unfurnished  \n",
       "\n",
       "[513 rows x 11 columns]"
      ]
     },
     "execution_count": 35,
     "metadata": {},
     "output_type": "execute_result"
    }
   ],
   "source": [
    "df"
   ]
  },
  {
   "cell_type": "code",
   "execution_count": 36,
   "id": "4d8e14f4",
   "metadata": {},
   "outputs": [
    {
     "name": "stderr",
     "output_type": "stream",
     "text": [
      "C:\\Users\\himanshu\\anaconda3\\lib\\site-packages\\seaborn\\_decorators.py:36: FutureWarning: Pass the following variable as a keyword arg: x. From version 0.12, the only valid positional argument will be `data`, and passing other arguments without an explicit keyword will result in an error or misinterpretation.\n",
      "  warnings.warn(\n"
     ]
    },
    {
     "data": {
      "text/plain": [
       "<AxesSubplot:xlabel='parking'>"
      ]
     },
     "execution_count": 36,
     "metadata": {},
     "output_type": "execute_result"
    },
    {
     "data": {
      "image/png": "[encoded data removed]",
      "text/plain": [
       "<Figure size 432x288 with 1 Axes>"
      ]
     },
     "metadata": {
      "needs_background": "light"
     },
     "output_type": "display_data"
    }
   ],
   "source": [
    "sns.boxplot(df['parking'])"
   ]
  },
  {
   "cell_type": "code",
   "execution_count": 37,
   "id": "9f12f0cf",
   "metadata": {},
   "outputs": [],
   "source": [
    "q1=df['parking'].quantile(0.25)"
   ]
  },
  {
   "cell_type": "code",
   "execution_count": 38,
   "id": "1c5fc729",
   "metadata": {},
   "outputs": [],
   "source": [
    "q3=df['parking'].quantile(0.75)"
   ]
  },
  {
   "cell_type": "code",
   "execution_count": 39,
   "id": "2b539585",
   "metadata": {},
   "outputs": [],
   "source": [
    "IQR=q3-q1"
   ]
  },
  {
   "cell_type": "code",
   "execution_count": 40,
   "id": "2a076fd4",
   "metadata": {},
   "outputs": [],
   "source": [
    "lower=q1-1.5*IQR"
   ]
  },
  {
   "cell_type": "code",
   "execution_count": 41,
   "id": "010022c4",
   "metadata": {},
   "outputs": [],
   "source": [
    "higher=q3+1.5*IQR"
   ]
  },
  {
   "cell_type": "code",
   "execution_count": 42,
   "id": "2e8391a4",
   "metadata": {},
   "outputs": [],
   "source": [
    "df=df[(df['parking']>lower) & (df['parking']<higher)]"
   ]
  },
  {
   "cell_type": "code",
   "execution_count": 43,
   "id": "027a1bb4",
   "metadata": {},
   "outputs": [
    {
     "data": {
      "text/html": [
       "<div>\n",
       "<style scoped>\n",
       "    .dataframe tbody tr th:only-of-type {\n",
       "        vertical-align: middle;\n",
       "    }\n",
       "\n",
       "    .dataframe tbody tr th {\n",
       "        vertical-align: top;\n",
       "    }\n",
       "\n",
       "    .dataframe thead th {\n",
       "        text-align: right;\n",
       "    }\n",
       "</style>\n",
       "<table border=\"1\" class=\"dataframe\">\n",
       "  <thead>\n",
       "    <tr style=\"text-align: right;\">\n",
       "      <th></th>\n",
       "      <th>h_price</th>\n",
       "      <th>area</th>\n",
       "      <th>no_bedrooms</th>\n",
       "      <th>no_bathrooms</th>\n",
       "      <th>total_stories</th>\n",
       "      <th>mainroad_loc</th>\n",
       "      <th>guestroom</th>\n",
       "      <th>hotwater</th>\n",
       "      <th>airconditioner</th>\n",
       "      <th>parking</th>\n",
       "      <th>furnishingstatus</th>\n",
       "    </tr>\n",
       "  </thead>\n",
       "  <tbody>\n",
       "    <tr>\n",
       "      <th>0</th>\n",
       "      <td>13300000.0</td>\n",
       "      <td>7420.0</td>\n",
       "      <td>4 rooms</td>\n",
       "      <td>2 bathroom</td>\n",
       "      <td>3.0</td>\n",
       "      <td>yes</td>\n",
       "      <td>no</td>\n",
       "      <td>no</td>\n",
       "      <td>yes</td>\n",
       "      <td>2.0</td>\n",
       "      <td>furnished</td>\n",
       "    </tr>\n",
       "    <tr>\n",
       "      <th>2</th>\n",
       "      <td>12250000.0</td>\n",
       "      <td>9960.0</td>\n",
       "      <td>3 rooms</td>\n",
       "      <td>2 bathroom</td>\n",
       "      <td>2.0</td>\n",
       "      <td>yes</td>\n",
       "      <td>no</td>\n",
       "      <td>no</td>\n",
       "      <td>no</td>\n",
       "      <td>2.0</td>\n",
       "      <td>semi-furnished</td>\n",
       "    </tr>\n",
       "    <tr>\n",
       "      <th>4</th>\n",
       "      <td>11410000.0</td>\n",
       "      <td>4600.0</td>\n",
       "      <td>4 rooms</td>\n",
       "      <td>1 bathroom</td>\n",
       "      <td>2.0</td>\n",
       "      <td>yes</td>\n",
       "      <td>yes</td>\n",
       "      <td>no</td>\n",
       "      <td>yes</td>\n",
       "      <td>2.0</td>\n",
       "      <td>furnished</td>\n",
       "    </tr>\n",
       "    <tr>\n",
       "      <th>5</th>\n",
       "      <td>10850000.0</td>\n",
       "      <td>7500.0</td>\n",
       "      <td>3 rooms</td>\n",
       "      <td>3 bathroom</td>\n",
       "      <td>1.0</td>\n",
       "      <td>yes</td>\n",
       "      <td>no</td>\n",
       "      <td>no</td>\n",
       "      <td>yes</td>\n",
       "      <td>2.0</td>\n",
       "      <td>semi-furnished</td>\n",
       "    </tr>\n",
       "    <tr>\n",
       "      <th>6</th>\n",
       "      <td>10150000.0</td>\n",
       "      <td>8580.0</td>\n",
       "      <td>4 rooms</td>\n",
       "      <td>3 bathroom</td>\n",
       "      <td>4.0</td>\n",
       "      <td>yes</td>\n",
       "      <td>no</td>\n",
       "      <td>no</td>\n",
       "      <td>yes</td>\n",
       "      <td>2.0</td>\n",
       "      <td>semi-furnished</td>\n",
       "    </tr>\n",
       "    <tr>\n",
       "      <th>...</th>\n",
       "      <td>...</td>\n",
       "      <td>...</td>\n",
       "      <td>...</td>\n",
       "      <td>...</td>\n",
       "      <td>...</td>\n",
       "      <td>...</td>\n",
       "      <td>...</td>\n",
       "      <td>...</td>\n",
       "      <td>...</td>\n",
       "      <td>...</td>\n",
       "      <td>...</td>\n",
       "    </tr>\n",
       "    <tr>\n",
       "      <th>527</th>\n",
       "      <td>1855000.0</td>\n",
       "      <td>2990.0</td>\n",
       "      <td>2 rooms</td>\n",
       "      <td>1 bathroom</td>\n",
       "      <td>1.0</td>\n",
       "      <td>no</td>\n",
       "      <td>no</td>\n",
       "      <td>no</td>\n",
       "      <td>no</td>\n",
       "      <td>1.0</td>\n",
       "      <td>unfurnished</td>\n",
       "    </tr>\n",
       "    <tr>\n",
       "      <th>528</th>\n",
       "      <td>1820000.0</td>\n",
       "      <td>4600.0</td>\n",
       "      <td>2 rooms</td>\n",
       "      <td>1 bathroom</td>\n",
       "      <td>1.0</td>\n",
       "      <td>yes</td>\n",
       "      <td>no</td>\n",
       "      <td>no</td>\n",
       "      <td>no</td>\n",
       "      <td>2.0</td>\n",
       "      <td>unfurnished</td>\n",
       "    </tr>\n",
       "    <tr>\n",
       "      <th>529</th>\n",
       "      <td>1767150.0</td>\n",
       "      <td>2400.0</td>\n",
       "      <td>3 rooms</td>\n",
       "      <td>1 bathroom</td>\n",
       "      <td>1.0</td>\n",
       "      <td>no</td>\n",
       "      <td>no</td>\n",
       "      <td>no</td>\n",
       "      <td>no</td>\n",
       "      <td>0.0</td>\n",
       "      <td>semi-furnished</td>\n",
       "    </tr>\n",
       "    <tr>\n",
       "      <th>530</th>\n",
       "      <td>1750000.0</td>\n",
       "      <td>3620.0</td>\n",
       "      <td>2 rooms</td>\n",
       "      <td>1 bathroom</td>\n",
       "      <td>1.0</td>\n",
       "      <td>yes</td>\n",
       "      <td>no</td>\n",
       "      <td>no</td>\n",
       "      <td>no</td>\n",
       "      <td>0.0</td>\n",
       "      <td>unfurnished</td>\n",
       "    </tr>\n",
       "    <tr>\n",
       "      <th>531</th>\n",
       "      <td>1750000.0</td>\n",
       "      <td>3850.0</td>\n",
       "      <td>3 rooms</td>\n",
       "      <td>1 bathroom</td>\n",
       "      <td>2.0</td>\n",
       "      <td>yes</td>\n",
       "      <td>no</td>\n",
       "      <td>no</td>\n",
       "      <td>no</td>\n",
       "      <td>0.0</td>\n",
       "      <td>unfurnished</td>\n",
       "    </tr>\n",
       "  </tbody>\n",
       "</table>\n",
       "<p>502 rows × 11 columns</p>\n",
       "</div>"
      ],
      "text/plain": [
       "        h_price    area no_bedrooms no_bathrooms  total_stories mainroad_loc  \\\n",
       "0    13300000.0  7420.0     4 rooms   2 bathroom            3.0          yes   \n",
       "2    12250000.0  9960.0     3 rooms   2 bathroom            2.0          yes   \n",
       "4    11410000.0  4600.0     4 rooms   1 bathroom            2.0          yes   \n",
       "5    10850000.0  7500.0     3 rooms   3 bathroom            1.0          yes   \n",
       "6    10150000.0  8580.0     4 rooms   3 bathroom            4.0          yes   \n",
       "..          ...     ...         ...          ...            ...          ...   \n",
       "527   1855000.0  2990.0     2 rooms   1 bathroom            1.0           no   \n",
       "528   1820000.0  4600.0     2 rooms   1 bathroom            1.0          yes   \n",
       "529   1767150.0  2400.0     3 rooms   1 bathroom            1.0           no   \n",
       "530   1750000.0  3620.0     2 rooms   1 bathroom            1.0          yes   \n",
       "531   1750000.0  3850.0     3 rooms   1 bathroom            2.0          yes   \n",
       "\n",
       "    guestroom hotwater airconditioner  parking furnishingstatus  \n",
       "0          no       no            yes      2.0        furnished  \n",
       "2          no       no             no      2.0   semi-furnished  \n",
       "4         yes       no            yes      2.0        furnished  \n",
       "5          no       no            yes      2.0   semi-furnished  \n",
       "6          no       no            yes      2.0   semi-furnished  \n",
       "..        ...      ...            ...      ...              ...  \n",
       "527        no       no             no      1.0      unfurnished  \n",
       "528        no       no             no      2.0      unfurnished  \n",
       "529        no       no             no      0.0   semi-furnished  \n",
       "530        no       no             no      0.0      unfurnished  \n",
       "531        no       no             no      0.0      unfurnished  \n",
       "\n",
       "[502 rows x 11 columns]"
      ]
     },
     "execution_count": 43,
     "metadata": {},
     "output_type": "execute_result"
    }
   ],
   "source": [
    "df"
   ]
  },
  {
   "cell_type": "code",
   "execution_count": 44,
   "id": "e3ad1947",
   "metadata": {},
   "outputs": [
    {
     "name": "stderr",
     "output_type": "stream",
     "text": [
      "C:\\Users\\himanshu\\anaconda3\\lib\\site-packages\\seaborn\\_decorators.py:36: FutureWarning: Pass the following variable as a keyword arg: x. From version 0.12, the only valid positional argument will be `data`, and passing other arguments without an explicit keyword will result in an error or misinterpretation.\n",
      "  warnings.warn(\n"
     ]
    },
    {
     "data": {
      "text/plain": [
       "<AxesSubplot:xlabel='total_stories'>"
      ]
     },
     "execution_count": 44,
     "metadata": {},
     "output_type": "execute_result"
    },
    {
     "data": {
      "image/png": "[encoded data removed]",
      "text/plain": [
       "<Figure size 432x288 with 1 Axes>"
      ]
     },
     "metadata": {
      "needs_background": "light"
     },
     "output_type": "display_data"
    }
   ],
   "source": [
    "sns.boxplot(df['total_stories'])\n"
   ]
  },
  {
   "cell_type": "code",
   "execution_count": 45,
   "id": "2d667d42",
   "metadata": {},
   "outputs": [],
   "source": [
    "q1=df['total_stories'].quantile(0.25)"
   ]
  },
  {
   "cell_type": "code",
   "execution_count": 46,
   "id": "e4ed7ef4",
   "metadata": {},
   "outputs": [],
   "source": [
    "q3=df['total_stories'].quantile(0.75)"
   ]
  },
  {
   "cell_type": "code",
   "execution_count": 47,
   "id": "59878433",
   "metadata": {},
   "outputs": [],
   "source": [
    "IQR=q3-q1"
   ]
  },
  {
   "cell_type": "code",
   "execution_count": 48,
   "id": "4eb582f4",
   "metadata": {},
   "outputs": [],
   "source": [
    "lower=q1-1.5*IQR"
   ]
  },
  {
   "cell_type": "code",
   "execution_count": 49,
   "id": "2b315dd0",
   "metadata": {},
   "outputs": [],
   "source": [
    "higher=q3+1.5*IQR"
   ]
  },
  {
   "cell_type": "code",
   "execution_count": 50,
   "id": "5541dd38",
   "metadata": {},
   "outputs": [],
   "source": [
    "df=df[(df['total_stories']>lower) & (df['total_stories']<higher)]"
   ]
  },
  {
   "cell_type": "code",
   "execution_count": 51,
   "id": "640d963c",
   "metadata": {},
   "outputs": [
    {
     "data": {
      "text/html": [
       "<div>\n",
       "<style scoped>\n",
       "    .dataframe tbody tr th:only-of-type {\n",
       "        vertical-align: middle;\n",
       "    }\n",
       "\n",
       "    .dataframe tbody tr th {\n",
       "        vertical-align: top;\n",
       "    }\n",
       "\n",
       "    .dataframe thead th {\n",
       "        text-align: right;\n",
       "    }\n",
       "</style>\n",
       "<table border=\"1\" class=\"dataframe\">\n",
       "  <thead>\n",
       "    <tr style=\"text-align: right;\">\n",
       "      <th></th>\n",
       "      <th>h_price</th>\n",
       "      <th>area</th>\n",
       "      <th>no_bedrooms</th>\n",
       "      <th>no_bathrooms</th>\n",
       "      <th>total_stories</th>\n",
       "      <th>mainroad_loc</th>\n",
       "      <th>guestroom</th>\n",
       "      <th>hotwater</th>\n",
       "      <th>airconditioner</th>\n",
       "      <th>parking</th>\n",
       "      <th>furnishingstatus</th>\n",
       "    </tr>\n",
       "  </thead>\n",
       "  <tbody>\n",
       "    <tr>\n",
       "      <th>0</th>\n",
       "      <td>13300000.0</td>\n",
       "      <td>7420.0</td>\n",
       "      <td>4 rooms</td>\n",
       "      <td>2 bathroom</td>\n",
       "      <td>3.0</td>\n",
       "      <td>yes</td>\n",
       "      <td>no</td>\n",
       "      <td>no</td>\n",
       "      <td>yes</td>\n",
       "      <td>2.0</td>\n",
       "      <td>furnished</td>\n",
       "    </tr>\n",
       "    <tr>\n",
       "      <th>2</th>\n",
       "      <td>12250000.0</td>\n",
       "      <td>9960.0</td>\n",
       "      <td>3 rooms</td>\n",
       "      <td>2 bathroom</td>\n",
       "      <td>2.0</td>\n",
       "      <td>yes</td>\n",
       "      <td>no</td>\n",
       "      <td>no</td>\n",
       "      <td>no</td>\n",
       "      <td>2.0</td>\n",
       "      <td>semi-furnished</td>\n",
       "    </tr>\n",
       "    <tr>\n",
       "      <th>4</th>\n",
       "      <td>11410000.0</td>\n",
       "      <td>4600.0</td>\n",
       "      <td>4 rooms</td>\n",
       "      <td>1 bathroom</td>\n",
       "      <td>2.0</td>\n",
       "      <td>yes</td>\n",
       "      <td>yes</td>\n",
       "      <td>no</td>\n",
       "      <td>yes</td>\n",
       "      <td>2.0</td>\n",
       "      <td>furnished</td>\n",
       "    </tr>\n",
       "    <tr>\n",
       "      <th>5</th>\n",
       "      <td>10850000.0</td>\n",
       "      <td>7500.0</td>\n",
       "      <td>3 rooms</td>\n",
       "      <td>3 bathroom</td>\n",
       "      <td>1.0</td>\n",
       "      <td>yes</td>\n",
       "      <td>no</td>\n",
       "      <td>no</td>\n",
       "      <td>yes</td>\n",
       "      <td>2.0</td>\n",
       "      <td>semi-furnished</td>\n",
       "    </tr>\n",
       "    <tr>\n",
       "      <th>8</th>\n",
       "      <td>9870000.0</td>\n",
       "      <td>8100.0</td>\n",
       "      <td>4 rooms</td>\n",
       "      <td>1 bathroom</td>\n",
       "      <td>2.0</td>\n",
       "      <td>yes</td>\n",
       "      <td>yes</td>\n",
       "      <td>no</td>\n",
       "      <td>yes</td>\n",
       "      <td>2.0</td>\n",
       "      <td>furnished</td>\n",
       "    </tr>\n",
       "    <tr>\n",
       "      <th>...</th>\n",
       "      <td>...</td>\n",
       "      <td>...</td>\n",
       "      <td>...</td>\n",
       "      <td>...</td>\n",
       "      <td>...</td>\n",
       "      <td>...</td>\n",
       "      <td>...</td>\n",
       "      <td>...</td>\n",
       "      <td>...</td>\n",
       "      <td>...</td>\n",
       "      <td>...</td>\n",
       "    </tr>\n",
       "    <tr>\n",
       "      <th>527</th>\n",
       "      <td>1855000.0</td>\n",
       "      <td>2990.0</td>\n",
       "      <td>2 rooms</td>\n",
       "      <td>1 bathroom</td>\n",
       "      <td>1.0</td>\n",
       "      <td>no</td>\n",
       "      <td>no</td>\n",
       "      <td>no</td>\n",
       "      <td>no</td>\n",
       "      <td>1.0</td>\n",
       "      <td>unfurnished</td>\n",
       "    </tr>\n",
       "    <tr>\n",
       "      <th>528</th>\n",
       "      <td>1820000.0</td>\n",
       "      <td>4600.0</td>\n",
       "      <td>2 rooms</td>\n",
       "      <td>1 bathroom</td>\n",
       "      <td>1.0</td>\n",
       "      <td>yes</td>\n",
       "      <td>no</td>\n",
       "      <td>no</td>\n",
       "      <td>no</td>\n",
       "      <td>2.0</td>\n",
       "      <td>unfurnished</td>\n",
       "    </tr>\n",
       "    <tr>\n",
       "      <th>529</th>\n",
       "      <td>1767150.0</td>\n",
       "      <td>2400.0</td>\n",
       "      <td>3 rooms</td>\n",
       "      <td>1 bathroom</td>\n",
       "      <td>1.0</td>\n",
       "      <td>no</td>\n",
       "      <td>no</td>\n",
       "      <td>no</td>\n",
       "      <td>no</td>\n",
       "      <td>0.0</td>\n",
       "      <td>semi-furnished</td>\n",
       "    </tr>\n",
       "    <tr>\n",
       "      <th>530</th>\n",
       "      <td>1750000.0</td>\n",
       "      <td>3620.0</td>\n",
       "      <td>2 rooms</td>\n",
       "      <td>1 bathroom</td>\n",
       "      <td>1.0</td>\n",
       "      <td>yes</td>\n",
       "      <td>no</td>\n",
       "      <td>no</td>\n",
       "      <td>no</td>\n",
       "      <td>0.0</td>\n",
       "      <td>unfurnished</td>\n",
       "    </tr>\n",
       "    <tr>\n",
       "      <th>531</th>\n",
       "      <td>1750000.0</td>\n",
       "      <td>3850.0</td>\n",
       "      <td>3 rooms</td>\n",
       "      <td>1 bathroom</td>\n",
       "      <td>2.0</td>\n",
       "      <td>yes</td>\n",
       "      <td>no</td>\n",
       "      <td>no</td>\n",
       "      <td>no</td>\n",
       "      <td>0.0</td>\n",
       "      <td>unfurnished</td>\n",
       "    </tr>\n",
       "  </tbody>\n",
       "</table>\n",
       "<p>466 rows × 11 columns</p>\n",
       "</div>"
      ],
      "text/plain": [
       "        h_price    area no_bedrooms no_bathrooms  total_stories mainroad_loc  \\\n",
       "0    13300000.0  7420.0     4 rooms   2 bathroom            3.0          yes   \n",
       "2    12250000.0  9960.0     3 rooms   2 bathroom            2.0          yes   \n",
       "4    11410000.0  4600.0     4 rooms   1 bathroom            2.0          yes   \n",
       "5    10850000.0  7500.0     3 rooms   3 bathroom            1.0          yes   \n",
       "8     9870000.0  8100.0     4 rooms   1 bathroom            2.0          yes   \n",
       "..          ...     ...         ...          ...            ...          ...   \n",
       "527   1855000.0  2990.0     2 rooms   1 bathroom            1.0           no   \n",
       "528   1820000.0  4600.0     2 rooms   1 bathroom            1.0          yes   \n",
       "529   1767150.0  2400.0     3 rooms   1 bathroom            1.0           no   \n",
       "530   1750000.0  3620.0     2 rooms   1 bathroom            1.0          yes   \n",
       "531   1750000.0  3850.0     3 rooms   1 bathroom            2.0          yes   \n",
       "\n",
       "    guestroom hotwater airconditioner  parking furnishingstatus  \n",
       "0          no       no            yes      2.0        furnished  \n",
       "2          no       no             no      2.0   semi-furnished  \n",
       "4         yes       no            yes      2.0        furnished  \n",
       "5          no       no            yes      2.0   semi-furnished  \n",
       "8         yes       no            yes      2.0        furnished  \n",
       "..        ...      ...            ...      ...              ...  \n",
       "527        no       no             no      1.0      unfurnished  \n",
       "528        no       no             no      2.0      unfurnished  \n",
       "529        no       no             no      0.0   semi-furnished  \n",
       "530        no       no             no      0.0      unfurnished  \n",
       "531        no       no             no      0.0      unfurnished  \n",
       "\n",
       "[466 rows x 11 columns]"
      ]
     },
     "execution_count": 51,
     "metadata": {},
     "output_type": "execute_result"
    }
   ],
   "source": [
    "df"
   ]
  },
  {
   "cell_type": "code",
   "execution_count": 52,
   "id": "3fb47d35",
   "metadata": {},
   "outputs": [
    {
     "data": {
      "text/plain": [
       "<seaborn.axisgrid.PairGrid at 0x1d3062834c0>"
      ]
     },
     "execution_count": 52,
     "metadata": {},
     "output_type": "execute_result"
    },
    {
     "data": {
      "image/png": "[encoded data removed]",
      "text/plain": [
       "<Figure size 720x720 with 20 Axes>"
      ]
     },
     "metadata": {
      "needs_background": "light"
     },
     "output_type": "display_data"
    }
   ],
   "source": [
    "sns.pairplot(df)"
   ]
  },
  {
   "cell_type": "code",
   "execution_count": 53,
   "id": "3cc78caf",
   "metadata": {},
   "outputs": [
    {
     "data": {
      "text/plain": [
       "<matplotlib.collections.PathCollection at 0x1d306e07d90>"
      ]
     },
     "execution_count": 53,
     "metadata": {},
     "output_type": "execute_result"
    },
    {
     "data": {
      "image/png": "[encoded data removed]",
      "text/plain": [
       "<Figure size 432x288 with 1 Axes>"
      ]
     },
     "metadata": {
      "needs_background": "light"
     },
     "output_type": "display_data"
    }
   ],
   "source": [
    "plt.scatter(df['area'],df['h_price'])"
   ]
  },
  {
   "cell_type": "code",
   "execution_count": 54,
   "id": "21c66b08",
   "metadata": {},
   "outputs": [
    {
     "data": {
      "text/html": [
       "<div>\n",
       "<style scoped>\n",
       "    .dataframe tbody tr th:only-of-type {\n",
       "        vertical-align: middle;\n",
       "    }\n",
       "\n",
       "    .dataframe tbody tr th {\n",
       "        vertical-align: top;\n",
       "    }\n",
       "\n",
       "    .dataframe thead th {\n",
       "        text-align: right;\n",
       "    }\n",
       "</style>\n",
       "<table border=\"1\" class=\"dataframe\">\n",
       "  <thead>\n",
       "    <tr style=\"text-align: right;\">\n",
       "      <th></th>\n",
       "      <th>h_price</th>\n",
       "      <th>area</th>\n",
       "      <th>no_bedrooms</th>\n",
       "      <th>no_bathrooms</th>\n",
       "      <th>total_stories</th>\n",
       "      <th>mainroad_loc</th>\n",
       "      <th>guestroom</th>\n",
       "      <th>hotwater</th>\n",
       "      <th>airconditioner</th>\n",
       "      <th>parking</th>\n",
       "      <th>furnishingstatus</th>\n",
       "    </tr>\n",
       "  </thead>\n",
       "  <tbody>\n",
       "    <tr>\n",
       "      <th>0</th>\n",
       "      <td>13300000.0</td>\n",
       "      <td>7420.0</td>\n",
       "      <td>4 rooms</td>\n",
       "      <td>2 bathroom</td>\n",
       "      <td>3.0</td>\n",
       "      <td>yes</td>\n",
       "      <td>no</td>\n",
       "      <td>no</td>\n",
       "      <td>yes</td>\n",
       "      <td>2.0</td>\n",
       "      <td>furnished</td>\n",
       "    </tr>\n",
       "    <tr>\n",
       "      <th>2</th>\n",
       "      <td>12250000.0</td>\n",
       "      <td>9960.0</td>\n",
       "      <td>3 rooms</td>\n",
       "      <td>2 bathroom</td>\n",
       "      <td>2.0</td>\n",
       "      <td>yes</td>\n",
       "      <td>no</td>\n",
       "      <td>no</td>\n",
       "      <td>no</td>\n",
       "      <td>2.0</td>\n",
       "      <td>semi-furnished</td>\n",
       "    </tr>\n",
       "    <tr>\n",
       "      <th>4</th>\n",
       "      <td>11410000.0</td>\n",
       "      <td>4600.0</td>\n",
       "      <td>4 rooms</td>\n",
       "      <td>1 bathroom</td>\n",
       "      <td>2.0</td>\n",
       "      <td>yes</td>\n",
       "      <td>yes</td>\n",
       "      <td>no</td>\n",
       "      <td>yes</td>\n",
       "      <td>2.0</td>\n",
       "      <td>furnished</td>\n",
       "    </tr>\n",
       "    <tr>\n",
       "      <th>5</th>\n",
       "      <td>10850000.0</td>\n",
       "      <td>7500.0</td>\n",
       "      <td>3 rooms</td>\n",
       "      <td>3 bathroom</td>\n",
       "      <td>1.0</td>\n",
       "      <td>yes</td>\n",
       "      <td>no</td>\n",
       "      <td>no</td>\n",
       "      <td>yes</td>\n",
       "      <td>2.0</td>\n",
       "      <td>semi-furnished</td>\n",
       "    </tr>\n",
       "    <tr>\n",
       "      <th>8</th>\n",
       "      <td>9870000.0</td>\n",
       "      <td>8100.0</td>\n",
       "      <td>4 rooms</td>\n",
       "      <td>1 bathroom</td>\n",
       "      <td>2.0</td>\n",
       "      <td>yes</td>\n",
       "      <td>yes</td>\n",
       "      <td>no</td>\n",
       "      <td>yes</td>\n",
       "      <td>2.0</td>\n",
       "      <td>furnished</td>\n",
       "    </tr>\n",
       "    <tr>\n",
       "      <th>...</th>\n",
       "      <td>...</td>\n",
       "      <td>...</td>\n",
       "      <td>...</td>\n",
       "      <td>...</td>\n",
       "      <td>...</td>\n",
       "      <td>...</td>\n",
       "      <td>...</td>\n",
       "      <td>...</td>\n",
       "      <td>...</td>\n",
       "      <td>...</td>\n",
       "      <td>...</td>\n",
       "    </tr>\n",
       "    <tr>\n",
       "      <th>527</th>\n",
       "      <td>1855000.0</td>\n",
       "      <td>2990.0</td>\n",
       "      <td>2 rooms</td>\n",
       "      <td>1 bathroom</td>\n",
       "      <td>1.0</td>\n",
       "      <td>no</td>\n",
       "      <td>no</td>\n",
       "      <td>no</td>\n",
       "      <td>no</td>\n",
       "      <td>1.0</td>\n",
       "      <td>unfurnished</td>\n",
       "    </tr>\n",
       "    <tr>\n",
       "      <th>528</th>\n",
       "      <td>1820000.0</td>\n",
       "      <td>4600.0</td>\n",
       "      <td>2 rooms</td>\n",
       "      <td>1 bathroom</td>\n",
       "      <td>1.0</td>\n",
       "      <td>yes</td>\n",
       "      <td>no</td>\n",
       "      <td>no</td>\n",
       "      <td>no</td>\n",
       "      <td>2.0</td>\n",
       "      <td>unfurnished</td>\n",
       "    </tr>\n",
       "    <tr>\n",
       "      <th>529</th>\n",
       "      <td>1767150.0</td>\n",
       "      <td>2400.0</td>\n",
       "      <td>3 rooms</td>\n",
       "      <td>1 bathroom</td>\n",
       "      <td>1.0</td>\n",
       "      <td>no</td>\n",
       "      <td>no</td>\n",
       "      <td>no</td>\n",
       "      <td>no</td>\n",
       "      <td>0.0</td>\n",
       "      <td>semi-furnished</td>\n",
       "    </tr>\n",
       "    <tr>\n",
       "      <th>530</th>\n",
       "      <td>1750000.0</td>\n",
       "      <td>3620.0</td>\n",
       "      <td>2 rooms</td>\n",
       "      <td>1 bathroom</td>\n",
       "      <td>1.0</td>\n",
       "      <td>yes</td>\n",
       "      <td>no</td>\n",
       "      <td>no</td>\n",
       "      <td>no</td>\n",
       "      <td>0.0</td>\n",
       "      <td>unfurnished</td>\n",
       "    </tr>\n",
       "    <tr>\n",
       "      <th>531</th>\n",
       "      <td>1750000.0</td>\n",
       "      <td>3850.0</td>\n",
       "      <td>3 rooms</td>\n",
       "      <td>1 bathroom</td>\n",
       "      <td>2.0</td>\n",
       "      <td>yes</td>\n",
       "      <td>no</td>\n",
       "      <td>no</td>\n",
       "      <td>no</td>\n",
       "      <td>0.0</td>\n",
       "      <td>unfurnished</td>\n",
       "    </tr>\n",
       "  </tbody>\n",
       "</table>\n",
       "<p>466 rows × 11 columns</p>\n",
       "</div>"
      ],
      "text/plain": [
       "        h_price    area no_bedrooms no_bathrooms  total_stories mainroad_loc  \\\n",
       "0    13300000.0  7420.0     4 rooms   2 bathroom            3.0          yes   \n",
       "2    12250000.0  9960.0     3 rooms   2 bathroom            2.0          yes   \n",
       "4    11410000.0  4600.0     4 rooms   1 bathroom            2.0          yes   \n",
       "5    10850000.0  7500.0     3 rooms   3 bathroom            1.0          yes   \n",
       "8     9870000.0  8100.0     4 rooms   1 bathroom            2.0          yes   \n",
       "..          ...     ...         ...          ...            ...          ...   \n",
       "527   1855000.0  2990.0     2 rooms   1 bathroom            1.0           no   \n",
       "528   1820000.0  4600.0     2 rooms   1 bathroom            1.0          yes   \n",
       "529   1767150.0  2400.0     3 rooms   1 bathroom            1.0           no   \n",
       "530   1750000.0  3620.0     2 rooms   1 bathroom            1.0          yes   \n",
       "531   1750000.0  3850.0     3 rooms   1 bathroom            2.0          yes   \n",
       "\n",
       "    guestroom hotwater airconditioner  parking furnishingstatus  \n",
       "0          no       no            yes      2.0        furnished  \n",
       "2          no       no             no      2.0   semi-furnished  \n",
       "4         yes       no            yes      2.0        furnished  \n",
       "5          no       no            yes      2.0   semi-furnished  \n",
       "8         yes       no            yes      2.0        furnished  \n",
       "..        ...      ...            ...      ...              ...  \n",
       "527        no       no             no      1.0      unfurnished  \n",
       "528        no       no             no      2.0      unfurnished  \n",
       "529        no       no             no      0.0   semi-furnished  \n",
       "530        no       no             no      0.0      unfurnished  \n",
       "531        no       no             no      0.0      unfurnished  \n",
       "\n",
       "[466 rows x 11 columns]"
      ]
     },
     "execution_count": 54,
     "metadata": {},
     "output_type": "execute_result"
    }
   ],
   "source": [
    "df"
   ]
  },
  {
   "cell_type": "code",
   "execution_count": 55,
   "id": "1d7d909a",
   "metadata": {},
   "outputs": [
    {
     "data": {
      "text/plain": [
       "<AxesSubplot:xlabel='no_bedrooms', ylabel='h_price'>"
      ]
     },
     "execution_count": 55,
     "metadata": {},
     "output_type": "execute_result"
    },
    {
     "data": {
      "image/png": "[encoded data removed]",
      "text/plain": [
       "<Figure size 432x288 with 1 Axes>"
      ]
     },
     "metadata": {
      "needs_background": "light"
     },
     "output_type": "display_data"
    }
   ],
   "source": [
    "sns.barplot(x=df['no_bedrooms'],y=df['h_price'],data=df)"
   ]
  },
  {
   "cell_type": "code",
   "execution_count": 56,
   "id": "66551056",
   "metadata": {},
   "outputs": [
    {
     "data": {
      "text/plain": [
       "<AxesSubplot:xlabel='no_bedrooms', ylabel='h_price'>"
      ]
     },
     "execution_count": 56,
     "metadata": {},
     "output_type": "execute_result"
    },
    {
     "data": {
      "image/png": "[encoded data removed]",
      "text/plain": [
       "<Figure size 432x288 with 1 Axes>"
      ]
     },
     "metadata": {
      "needs_background": "light"
     },
     "output_type": "display_data"
    }
   ],
   "source": [
    "sns.barplot(x=df['no_bedrooms'],y=df['h_price'],data=df,hue=df['airconditioner'])"
   ]
  },
  {
   "cell_type": "code",
   "execution_count": 57,
   "id": "b65119c1",
   "metadata": {},
   "outputs": [
    {
     "data": {
      "text/plain": [
       "<AxesSubplot:xlabel='no_bedrooms', ylabel='h_price'>"
      ]
     },
     "execution_count": 57,
     "metadata": {},
     "output_type": "execute_result"
    },
    {
     "data": {
      "image/png": "[encoded data removed]",
      "text/plain": [
       "<Figure size 432x288 with 1 Axes>"
      ]
     },
     "metadata": {
      "needs_background": "light"
     },
     "output_type": "display_data"
    }
   ],
   "source": [
    "sns.barplot(x=df['no_bedrooms'],y=df['h_price'],data=df,hue=df['hotwater'])"
   ]
  },
  {
   "cell_type": "code",
   "execution_count": 58,
   "id": "97d67077",
   "metadata": {},
   "outputs": [
    {
     "data": {
      "text/plain": [
       "<AxesSubplot:xlabel='no_bedrooms', ylabel='h_price'>"
      ]
     },
     "execution_count": 58,
     "metadata": {},
     "output_type": "execute_result"
    },
    {
     "data": {
      "image/png": "[encoded data removed]",
      "text/plain": [
       "<Figure size 432x288 with 1 Axes>"
      ]
     },
     "metadata": {
      "needs_background": "light"
     },
     "output_type": "display_data"
    }
   ],
   "source": [
    "sns.barplot(x=df['no_bedrooms'],y=df['h_price'],data=df,hue=df['furnishingstatus'])"
   ]
  },
  {
   "cell_type": "code",
   "execution_count": 59,
   "id": "401b4124",
   "metadata": {},
   "outputs": [
    {
     "data": {
      "text/plain": [
       "<AxesSubplot:xlabel='no_bedrooms', ylabel='h_price'>"
      ]
     },
     "execution_count": 59,
     "metadata": {},
     "output_type": "execute_result"
    },
    {
     "data": {
      "image/png": "[encoded data removed]",
      "text/plain": [
       "<Figure size 432x288 with 1 Axes>"
      ]
     },
     "metadata": {
      "needs_background": "light"
     },
     "output_type": "display_data"
    }
   ],
   "source": [
    "sns.barplot(x=df['no_bedrooms'],y=df['h_price'],data=df,hue=df['parking'])"
   ]
  },
  {
   "cell_type": "code",
   "execution_count": 60,
   "id": "e0494cea",
   "metadata": {},
   "outputs": [
    {
     "data": {
      "text/plain": [
       "<AxesSubplot:xlabel='no_bedrooms', ylabel='h_price'>"
      ]
     },
     "execution_count": 60,
     "metadata": {},
     "output_type": "execute_result"
    },
    {
     "data": {
      "image/png": "[encoded data removed]",
      "text/plain": [
       "<Figure size 432x288 with 1 Axes>"
      ]
     },
     "metadata": {
      "needs_background": "light"
     },
     "output_type": "display_data"
    }
   ],
   "source": [
    "sns.barplot(x=df['no_bedrooms'],y=df['h_price'],data=df,hue=df['mainroad_loc'])"
   ]
  },
  {
   "cell_type": "code",
   "execution_count": 61,
   "id": "2192e403",
   "metadata": {},
   "outputs": [
    {
     "data": {
      "text/plain": [
       "<AxesSubplot:xlabel='no_bathrooms', ylabel='h_price'>"
      ]
     },
     "execution_count": 61,
     "metadata": {},
     "output_type": "execute_result"
    },
    {
     "data": {
      "image/png": "[encoded data removed]",
      "text/plain": [
       "<Figure size 432x288 with 1 Axes>"
      ]
     },
     "metadata": {
      "needs_background": "light"
     },
     "output_type": "display_data"
    }
   ],
   "source": [
    "sns.barplot(x=df['no_bathrooms'],y=df['h_price'],data=df)"
   ]
  },
  {
   "cell_type": "code",
   "execution_count": 62,
   "id": "69e9126e",
   "metadata": {},
   "outputs": [
    {
     "data": {
      "text/plain": [
       "<AxesSubplot:xlabel='no_bathrooms', ylabel='h_price'>"
      ]
     },
     "execution_count": 62,
     "metadata": {},
     "output_type": "execute_result"
    },
    {
     "data": {
      "image/png": "[encoded data removed]",
      "text/plain": [
       "<Figure size 432x288 with 1 Axes>"
      ]
     },
     "metadata": {
      "needs_background": "light"
     },
     "output_type": "display_data"
    }
   ],
   "source": [
    "sns.barplot(x=df['no_bathrooms'],y=df['h_price'],data=df,hue=df['airconditioner'])"
   ]
  },
  {
   "cell_type": "code",
   "execution_count": 63,
   "id": "22e6c645",
   "metadata": {},
   "outputs": [
    {
     "data": {
      "text/plain": [
       "<AxesSubplot:xlabel='no_bathrooms', ylabel='h_price'>"
      ]
     },
     "execution_count": 63,
     "metadata": {},
     "output_type": "execute_result"
    },
    {
     "data": {
      "image/png": "[encoded data removed]",
      "text/plain": [
       "<Figure size 432x288 with 1 Axes>"
      ]
     },
     "metadata": {
      "needs_background": "light"
     },
     "output_type": "display_data"
    }
   ],
   "source": [
    "sns.barplot(x=df['no_bathrooms'],y=df['h_price'],data=df,hue=df['hotwater'])"
   ]
  },
  {
   "cell_type": "code",
   "execution_count": 64,
   "id": "b3fab0c1",
   "metadata": {},
   "outputs": [
    {
     "data": {
      "text/plain": [
       "<AxesSubplot:xlabel='no_bathrooms', ylabel='h_price'>"
      ]
     },
     "execution_count": 64,
     "metadata": {},
     "output_type": "execute_result"
    },
    {
     "data": {
      "image/png": "[encoded data removed]",
      "text/plain": [
       "<Figure size 432x288 with 1 Axes>"
      ]
     },
     "metadata": {
      "needs_background": "light"
     },
     "output_type": "display_data"
    }
   ],
   "source": [
    "sns.barplot(x=df['no_bathrooms'],y=df['h_price'],data=df,hue=df['furnishingstatus'])"
   ]
  },
  {
   "cell_type": "code",
   "execution_count": 65,
   "id": "9b9ae915",
   "metadata": {},
   "outputs": [
    {
     "data": {
      "text/plain": [
       "<AxesSubplot:xlabel='no_bathrooms', ylabel='h_price'>"
      ]
     },
     "execution_count": 65,
     "metadata": {},
     "output_type": "execute_result"
    },
    {
     "data": {
      "image/png": "[encoded data removed]",
      "text/plain": [
       "<Figure size 432x288 with 1 Axes>"
      ]
     },
     "metadata": {
      "needs_background": "light"
     },
     "output_type": "display_data"
    }
   ],
   "source": [
    "sns.barplot(x=df['no_bathrooms'],y=df['h_price'],data=df,hue=df['parking'])"
   ]
  },
  {
   "cell_type": "code",
   "execution_count": 66,
   "id": "42a020b7",
   "metadata": {},
   "outputs": [
    {
     "data": {
      "text/plain": [
       "<AxesSubplot:xlabel='no_bathrooms', ylabel='h_price'>"
      ]
     },
     "execution_count": 66,
     "metadata": {},
     "output_type": "execute_result"
    },
    {
     "data": {
      "image/png": "[encoded data removed]",
      "text/plain": [
       "<Figure size 432x288 with 1 Axes>"
      ]
     },
     "metadata": {
      "needs_background": "light"
     },
     "output_type": "display_data"
    }
   ],
   "source": [
    "sns.barplot(x=df['no_bathrooms'],y=df['h_price'],data=df,hue=df['mainroad_loc'])"
   ]
  },
  {
   "cell_type": "code",
   "execution_count": 67,
   "id": "14805a60",
   "metadata": {
    "scrolled": true
   },
   "outputs": [
    {
     "data": {
      "text/plain": [
       "<AxesSubplot:xlabel='parking', ylabel='h_price'>"
      ]
     },
     "execution_count": 67,
     "metadata": {},
     "output_type": "execute_result"
    },
    {
     "data": {
      "image/png": "[encoded data removed]",
      "text/plain": [
       "<Figure size 432x288 with 1 Axes>"
      ]
     },
     "metadata": {
      "needs_background": "light"
     },
     "output_type": "display_data"
    }
   ],
   "source": [
    "sns.barplot(x=df['parking'],y=df['h_price'])"
   ]
  },
  {
   "cell_type": "code",
   "execution_count": 68,
   "id": "f0ff3bf8",
   "metadata": {},
   "outputs": [
    {
     "data": {
      "text/plain": [
       "<AxesSubplot:xlabel='parking', ylabel='h_price'>"
      ]
     },
     "execution_count": 68,
     "metadata": {},
     "output_type": "execute_result"
    },
    {
     "data": {
      "image/png": "[encoded data removed]",
      "text/plain": [
       "<Figure size 432x288 with 1 Axes>"
      ]
     },
     "metadata": {
      "needs_background": "light"
     },
     "output_type": "display_data"
    }
   ],
   "source": [
    "sns.barplot(x=df['parking'],y=df['h_price'],hue=df['hotwater'])"
   ]
  },
  {
   "cell_type": "code",
   "execution_count": 69,
   "id": "a09f4720",
   "metadata": {},
   "outputs": [
    {
     "data": {
      "text/plain": [
       "<AxesSubplot:xlabel='parking', ylabel='h_price'>"
      ]
     },
     "execution_count": 69,
     "metadata": {},
     "output_type": "execute_result"
    },
    {
     "data": {
      "image/png": "[encoded data removed]",
      "text/plain": [
       "<Figure size 432x288 with 1 Axes>"
      ]
     },
     "metadata": {
      "needs_background": "light"
     },
     "output_type": "display_data"
    }
   ],
   "source": [
    "sns.barplot(x=df['parking'],y=df['h_price'],data=df,hue=df['airconditioner'])"
   ]
  },
  {
   "cell_type": "code",
   "execution_count": 70,
   "id": "91be0c49",
   "metadata": {},
   "outputs": [
    {
     "data": {
      "text/plain": [
       "<AxesSubplot:xlabel='parking', ylabel='h_price'>"
      ]
     },
     "execution_count": 70,
     "metadata": {},
     "output_type": "execute_result"
    },
    {
     "data": {
      "image/png": "[encoded data removed]",
      "text/plain": [
       "<Figure size 432x288 with 1 Axes>"
      ]
     },
     "metadata": {
      "needs_background": "light"
     },
     "output_type": "display_data"
    }
   ],
   "source": [
    "sns.barplot(x=df['parking'],y=df['h_price'],data=df,hue=df['mainroad_loc'])"
   ]
  },
  {
   "cell_type": "code",
   "execution_count": 71,
   "id": "519cd475",
   "metadata": {},
   "outputs": [
    {
     "data": {
      "text/plain": [
       "<AxesSubplot:xlabel='parking', ylabel='h_price'>"
      ]
     },
     "execution_count": 71,
     "metadata": {},
     "output_type": "execute_result"
    },
    {
     "data": {
      "image/png": "[encoded data removed]",
      "text/plain": [
       "<Figure size 432x288 with 1 Axes>"
      ]
     },
     "metadata": {
      "needs_background": "light"
     },
     "output_type": "display_data"
    }
   ],
   "source": [
    "sns.barplot(x=df['parking'],y=df['h_price'],data=df,hue=df['furnishingstatus'])"
   ]
  },
  {
   "cell_type": "code",
   "execution_count": 72,
   "id": "53d4c52f",
   "metadata": {},
   "outputs": [
    {
     "name": "stderr",
     "output_type": "stream",
     "text": [
      "C:\\Users\\himanshu\\anaconda3\\lib\\site-packages\\seaborn\\_decorators.py:36: FutureWarning: Pass the following variables as keyword args: x, y. From version 0.12, the only valid positional argument will be `data`, and passing other arguments without an explicit keyword will result in an error or misinterpretation.\n",
      "  warnings.warn(\n"
     ]
    },
    {
     "data": {
      "text/plain": [
       "<AxesSubplot:xlabel='mainroad_loc', ylabel='h_price'>"
      ]
     },
     "execution_count": 72,
     "metadata": {},
     "output_type": "execute_result"
    },
    {
     "data": {
      "image/png": "[encoded data removed]",
      "text/plain": [
       "<Figure size 432x288 with 1 Axes>"
      ]
     },
     "metadata": {
      "needs_background": "light"
     },
     "output_type": "display_data"
    }
   ],
   "source": [
    "sns.barplot(df['mainroad_loc'],df['h_price'])"
   ]
  },
  {
   "cell_type": "code",
   "execution_count": 73,
   "id": "72bd141a",
   "metadata": {},
   "outputs": [
    {
     "data": {
      "text/plain": [
       "<AxesSubplot:xlabel='mainroad_loc', ylabel='h_price'>"
      ]
     },
     "execution_count": 73,
     "metadata": {},
     "output_type": "execute_result"
    },
    {
     "data": {
      "image/png": "[encoded data removed]",
      "text/plain": [
       "<Figure size 432x288 with 1 Axes>"
      ]
     },
     "metadata": {
      "needs_background": "light"
     },
     "output_type": "display_data"
    }
   ],
   "source": [
    "sns.barplot(x=df['mainroad_loc'],y=df['h_price'],hue=df['guestroom'])"
   ]
  },
  {
   "cell_type": "code",
   "execution_count": 74,
   "id": "9bafec29",
   "metadata": {},
   "outputs": [
    {
     "data": {
      "text/plain": [
       "<AxesSubplot:xlabel='mainroad_loc', ylabel='h_price'>"
      ]
     },
     "execution_count": 74,
     "metadata": {},
     "output_type": "execute_result"
    },
    {
     "data": {
      "image/png": "[encoded data removed]",
      "text/plain": [
       "<Figure size 432x288 with 1 Axes>"
      ]
     },
     "metadata": {
      "needs_background": "light"
     },
     "output_type": "display_data"
    }
   ],
   "source": [
    "sns.barplot(x=df['mainroad_loc'],y=df['h_price'],hue=df['hotwater'])"
   ]
  },
  {
   "cell_type": "code",
   "execution_count": 75,
   "id": "fd5360c1",
   "metadata": {},
   "outputs": [
    {
     "data": {
      "text/plain": [
       "<AxesSubplot:xlabel='mainroad_loc', ylabel='h_price'>"
      ]
     },
     "execution_count": 75,
     "metadata": {},
     "output_type": "execute_result"
    },
    {
     "data": {
      "image/png": "[encoded data removed]",
      "text/plain": [
       "<Figure size 432x288 with 1 Axes>"
      ]
     },
     "metadata": {
      "needs_background": "light"
     },
     "output_type": "display_data"
    }
   ],
   "source": [
    "sns.barplot(x=df['mainroad_loc'],y=df['h_price'],hue=df['parking'])"
   ]
  },
  {
   "cell_type": "code",
   "execution_count": 76,
   "id": "0c4d3e6f",
   "metadata": {},
   "outputs": [
    {
     "data": {
      "text/plain": [
       "<AxesSubplot:xlabel='furnishingstatus', ylabel='h_price'>"
      ]
     },
     "execution_count": 76,
     "metadata": {},
     "output_type": "execute_result"
    },
    {
     "data": {
      "image/png": "[encoded data removed]",
      "text/plain": [
       "<Figure size 432x288 with 1 Axes>"
      ]
     },
     "metadata": {
      "needs_background": "light"
     },
     "output_type": "display_data"
    }
   ],
   "source": [
    "sns.barplot(x=df['furnishingstatus'],y=df['h_price'])"
   ]
  },
  {
   "cell_type": "code",
   "execution_count": 77,
   "id": "a38ea4be",
   "metadata": {},
   "outputs": [
    {
     "data": {
      "text/plain": [
       "<AxesSubplot:xlabel='furnishingstatus', ylabel='h_price'>"
      ]
     },
     "execution_count": 77,
     "metadata": {},
     "output_type": "execute_result"
    },
    {
     "data": {
      "image/png": "[encoded data removed]",
      "text/plain": [
       "<Figure size 432x288 with 1 Axes>"
      ]
     },
     "metadata": {
      "needs_background": "light"
     },
     "output_type": "display_data"
    }
   ],
   "source": [
    "sns.barplot(x=df['furnishingstatus'],y=df['h_price'],hue=df['hotwater'])"
   ]
  },
  {
   "cell_type": "code",
   "execution_count": 78,
   "id": "96a6c761",
   "metadata": {},
   "outputs": [
    {
     "data": {
      "text/plain": [
       "<AxesSubplot:xlabel='furnishingstatus', ylabel='h_price'>"
      ]
     },
     "execution_count": 78,
     "metadata": {},
     "output_type": "execute_result"
    },
    {
     "data": {
      "image/png": "[encoded data removed]",
      "text/plain": [
       "<Figure size 432x288 with 1 Axes>"
      ]
     },
     "metadata": {
      "needs_background": "light"
     },
     "output_type": "display_data"
    }
   ],
   "source": [
    "sns.barplot(x=df['furnishingstatus'],y=df['h_price'],hue=df['parking'])"
   ]
  },
  {
   "cell_type": "code",
   "execution_count": 79,
   "id": "b179a4b6",
   "metadata": {},
   "outputs": [
    {
     "data": {
      "text/plain": [
       "<AxesSubplot:xlabel='furnishingstatus', ylabel='h_price'>"
      ]
     },
     "execution_count": 79,
     "metadata": {},
     "output_type": "execute_result"
    },
    {
     "data": {
      "image/png": "[encoded data removed]",
      "text/plain": [
       "<Figure size 432x288 with 1 Axes>"
      ]
     },
     "metadata": {
      "needs_background": "light"
     },
     "output_type": "display_data"
    }
   ],
   "source": [
    "sns.barplot(x=df['furnishingstatus'],y=df['h_price'],hue=df['guestroom'])"
   ]
  },
  {
   "cell_type": "code",
   "execution_count": 80,
   "id": "215cff45",
   "metadata": {},
   "outputs": [
    {
     "data": {
      "text/plain": [
       "<AxesSubplot:xlabel='furnishingstatus', ylabel='h_price'>"
      ]
     },
     "execution_count": 80,
     "metadata": {},
     "output_type": "execute_result"
    },
    {
     "data": {
      "image/png": "[encoded data removed]",
      "text/plain": [
       "<Figure size 432x288 with 1 Axes>"
      ]
     },
     "metadata": {
      "needs_background": "light"
     },
     "output_type": "display_data"
    }
   ],
   "source": [
    "sns.barplot(x=df['furnishingstatus'],y=df['h_price'],hue=df['airconditioner'])"
   ]
  },
  {
   "cell_type": "code",
   "execution_count": 81,
   "id": "c89ce5c8",
   "metadata": {},
   "outputs": [
    {
     "data": {
      "text/html": [
       "<div>\n",
       "<style scoped>\n",
       "    .dataframe tbody tr th:only-of-type {\n",
       "        vertical-align: middle;\n",
       "    }\n",
       "\n",
       "    .dataframe tbody tr th {\n",
       "        vertical-align: top;\n",
       "    }\n",
       "\n",
       "    .dataframe thead th {\n",
       "        text-align: right;\n",
       "    }\n",
       "</style>\n",
       "<table border=\"1\" class=\"dataframe\">\n",
       "  <thead>\n",
       "    <tr style=\"text-align: right;\">\n",
       "      <th></th>\n",
       "      <th>h_price</th>\n",
       "      <th>area</th>\n",
       "      <th>no_bedrooms</th>\n",
       "      <th>no_bathrooms</th>\n",
       "      <th>total_stories</th>\n",
       "      <th>mainroad_loc</th>\n",
       "      <th>guestroom</th>\n",
       "      <th>hotwater</th>\n",
       "      <th>airconditioner</th>\n",
       "      <th>parking</th>\n",
       "      <th>furnishingstatus</th>\n",
       "    </tr>\n",
       "  </thead>\n",
       "  <tbody>\n",
       "    <tr>\n",
       "      <th>0</th>\n",
       "      <td>13300000.0</td>\n",
       "      <td>7420.0</td>\n",
       "      <td>4 rooms</td>\n",
       "      <td>2 bathroom</td>\n",
       "      <td>3.0</td>\n",
       "      <td>yes</td>\n",
       "      <td>no</td>\n",
       "      <td>no</td>\n",
       "      <td>yes</td>\n",
       "      <td>2.0</td>\n",
       "      <td>furnished</td>\n",
       "    </tr>\n",
       "    <tr>\n",
       "      <th>2</th>\n",
       "      <td>12250000.0</td>\n",
       "      <td>9960.0</td>\n",
       "      <td>3 rooms</td>\n",
       "      <td>2 bathroom</td>\n",
       "      <td>2.0</td>\n",
       "      <td>yes</td>\n",
       "      <td>no</td>\n",
       "      <td>no</td>\n",
       "      <td>no</td>\n",
       "      <td>2.0</td>\n",
       "      <td>semi-furnished</td>\n",
       "    </tr>\n",
       "    <tr>\n",
       "      <th>4</th>\n",
       "      <td>11410000.0</td>\n",
       "      <td>4600.0</td>\n",
       "      <td>4 rooms</td>\n",
       "      <td>1 bathroom</td>\n",
       "      <td>2.0</td>\n",
       "      <td>yes</td>\n",
       "      <td>yes</td>\n",
       "      <td>no</td>\n",
       "      <td>yes</td>\n",
       "      <td>2.0</td>\n",
       "      <td>furnished</td>\n",
       "    </tr>\n",
       "    <tr>\n",
       "      <th>5</th>\n",
       "      <td>10850000.0</td>\n",
       "      <td>7500.0</td>\n",
       "      <td>3 rooms</td>\n",
       "      <td>3 bathroom</td>\n",
       "      <td>1.0</td>\n",
       "      <td>yes</td>\n",
       "      <td>no</td>\n",
       "      <td>no</td>\n",
       "      <td>yes</td>\n",
       "      <td>2.0</td>\n",
       "      <td>semi-furnished</td>\n",
       "    </tr>\n",
       "    <tr>\n",
       "      <th>8</th>\n",
       "      <td>9870000.0</td>\n",
       "      <td>8100.0</td>\n",
       "      <td>4 rooms</td>\n",
       "      <td>1 bathroom</td>\n",
       "      <td>2.0</td>\n",
       "      <td>yes</td>\n",
       "      <td>yes</td>\n",
       "      <td>no</td>\n",
       "      <td>yes</td>\n",
       "      <td>2.0</td>\n",
       "      <td>furnished</td>\n",
       "    </tr>\n",
       "    <tr>\n",
       "      <th>...</th>\n",
       "      <td>...</td>\n",
       "      <td>...</td>\n",
       "      <td>...</td>\n",
       "      <td>...</td>\n",
       "      <td>...</td>\n",
       "      <td>...</td>\n",
       "      <td>...</td>\n",
       "      <td>...</td>\n",
       "      <td>...</td>\n",
       "      <td>...</td>\n",
       "      <td>...</td>\n",
       "    </tr>\n",
       "    <tr>\n",
       "      <th>527</th>\n",
       "      <td>1855000.0</td>\n",
       "      <td>2990.0</td>\n",
       "      <td>2 rooms</td>\n",
       "      <td>1 bathroom</td>\n",
       "      <td>1.0</td>\n",
       "      <td>no</td>\n",
       "      <td>no</td>\n",
       "      <td>no</td>\n",
       "      <td>no</td>\n",
       "      <td>1.0</td>\n",
       "      <td>unfurnished</td>\n",
       "    </tr>\n",
       "    <tr>\n",
       "      <th>528</th>\n",
       "      <td>1820000.0</td>\n",
       "      <td>4600.0</td>\n",
       "      <td>2 rooms</td>\n",
       "      <td>1 bathroom</td>\n",
       "      <td>1.0</td>\n",
       "      <td>yes</td>\n",
       "      <td>no</td>\n",
       "      <td>no</td>\n",
       "      <td>no</td>\n",
       "      <td>2.0</td>\n",
       "      <td>unfurnished</td>\n",
       "    </tr>\n",
       "    <tr>\n",
       "      <th>529</th>\n",
       "      <td>1767150.0</td>\n",
       "      <td>2400.0</td>\n",
       "      <td>3 rooms</td>\n",
       "      <td>1 bathroom</td>\n",
       "      <td>1.0</td>\n",
       "      <td>no</td>\n",
       "      <td>no</td>\n",
       "      <td>no</td>\n",
       "      <td>no</td>\n",
       "      <td>0.0</td>\n",
       "      <td>semi-furnished</td>\n",
       "    </tr>\n",
       "    <tr>\n",
       "      <th>530</th>\n",
       "      <td>1750000.0</td>\n",
       "      <td>3620.0</td>\n",
       "      <td>2 rooms</td>\n",
       "      <td>1 bathroom</td>\n",
       "      <td>1.0</td>\n",
       "      <td>yes</td>\n",
       "      <td>no</td>\n",
       "      <td>no</td>\n",
       "      <td>no</td>\n",
       "      <td>0.0</td>\n",
       "      <td>unfurnished</td>\n",
       "    </tr>\n",
       "    <tr>\n",
       "      <th>531</th>\n",
       "      <td>1750000.0</td>\n",
       "      <td>3850.0</td>\n",
       "      <td>3 rooms</td>\n",
       "      <td>1 bathroom</td>\n",
       "      <td>2.0</td>\n",
       "      <td>yes</td>\n",
       "      <td>no</td>\n",
       "      <td>no</td>\n",
       "      <td>no</td>\n",
       "      <td>0.0</td>\n",
       "      <td>unfurnished</td>\n",
       "    </tr>\n",
       "  </tbody>\n",
       "</table>\n",
       "<p>466 rows × 11 columns</p>\n",
       "</div>"
      ],
      "text/plain": [
       "        h_price    area no_bedrooms no_bathrooms  total_stories mainroad_loc  \\\n",
       "0    13300000.0  7420.0     4 rooms   2 bathroom            3.0          yes   \n",
       "2    12250000.0  9960.0     3 rooms   2 bathroom            2.0          yes   \n",
       "4    11410000.0  4600.0     4 rooms   1 bathroom            2.0          yes   \n",
       "5    10850000.0  7500.0     3 rooms   3 bathroom            1.0          yes   \n",
       "8     9870000.0  8100.0     4 rooms   1 bathroom            2.0          yes   \n",
       "..          ...     ...         ...          ...            ...          ...   \n",
       "527   1855000.0  2990.0     2 rooms   1 bathroom            1.0           no   \n",
       "528   1820000.0  4600.0     2 rooms   1 bathroom            1.0          yes   \n",
       "529   1767150.0  2400.0     3 rooms   1 bathroom            1.0           no   \n",
       "530   1750000.0  3620.0     2 rooms   1 bathroom            1.0          yes   \n",
       "531   1750000.0  3850.0     3 rooms   1 bathroom            2.0          yes   \n",
       "\n",
       "    guestroom hotwater airconditioner  parking furnishingstatus  \n",
       "0          no       no            yes      2.0        furnished  \n",
       "2          no       no             no      2.0   semi-furnished  \n",
       "4         yes       no            yes      2.0        furnished  \n",
       "5          no       no            yes      2.0   semi-furnished  \n",
       "8         yes       no            yes      2.0        furnished  \n",
       "..        ...      ...            ...      ...              ...  \n",
       "527        no       no             no      1.0      unfurnished  \n",
       "528        no       no             no      2.0      unfurnished  \n",
       "529        no       no             no      0.0   semi-furnished  \n",
       "530        no       no             no      0.0      unfurnished  \n",
       "531        no       no             no      0.0      unfurnished  \n",
       "\n",
       "[466 rows x 11 columns]"
      ]
     },
     "execution_count": 81,
     "metadata": {},
     "output_type": "execute_result"
    }
   ],
   "source": [
    "df"
   ]
  },
  {
   "cell_type": "code",
   "execution_count": 82,
   "id": "522bf839",
   "metadata": {},
   "outputs": [
    {
     "data": {
      "text/plain": [
       "<AxesSubplot:xlabel='no_bathrooms', ylabel='h_price'>"
      ]
     },
     "execution_count": 82,
     "metadata": {},
     "output_type": "execute_result"
    },
    {
     "data": {
      "image/png": "[encoded data removed]",
      "text/plain": [
       "<Figure size 432x288 with 1 Axes>"
      ]
     },
     "metadata": {
      "needs_background": "light"
     },
     "output_type": "display_data"
    }
   ],
   "source": [
    "sns.boxplot(x=df['no_bathrooms'],y=df['h_price'])"
   ]
  },
  {
   "cell_type": "code",
   "execution_count": 83,
   "id": "5c8f1de3",
   "metadata": {},
   "outputs": [
    {
     "data": {
      "text/plain": [
       "<AxesSubplot:xlabel='no_bathrooms', ylabel='h_price'>"
      ]
     },
     "execution_count": 83,
     "metadata": {},
     "output_type": "execute_result"
    },
    {
     "data": {
      "image/png": "[encoded data removed]",
      "text/plain": [
       "<Figure size 432x288 with 1 Axes>"
      ]
     },
     "metadata": {
      "needs_background": "light"
     },
     "output_type": "display_data"
    }
   ],
   "source": [
    "sns.boxplot(x=df['no_bathrooms'],y=df['h_price'],hue=df['hotwater'])"
   ]
  },
  {
   "cell_type": "code",
   "execution_count": 84,
   "id": "fddc7b5d",
   "metadata": {},
   "outputs": [
    {
     "data": {
      "text/plain": [
       "<AxesSubplot:xlabel='no_bathrooms', ylabel='h_price'>"
      ]
     },
     "execution_count": 84,
     "metadata": {},
     "output_type": "execute_result"
    },
    {
     "data": {
      "image/png": "[encoded data removed]",
      "text/plain": [
       "<Figure size 432x288 with 1 Axes>"
      ]
     },
     "metadata": {
      "needs_background": "light"
     },
     "output_type": "display_data"
    }
   ],
   "source": [
    "sns.boxplot(x=df['no_bathrooms'],y=df['h_price'],hue=df['furnishingstatus'])"
   ]
  },
  {
   "cell_type": "code",
   "execution_count": 85,
   "id": "022049e9",
   "metadata": {},
   "outputs": [
    {
     "data": {
      "text/plain": [
       "<AxesSubplot:xlabel='no_bathrooms', ylabel='h_price'>"
      ]
     },
     "execution_count": 85,
     "metadata": {},
     "output_type": "execute_result"
    },
    {
     "data": {
      "image/png": "[encoded data removed]",
      "text/plain": [
       "<Figure size 432x288 with 1 Axes>"
      ]
     },
     "metadata": {
      "needs_background": "light"
     },
     "output_type": "display_data"
    }
   ],
   "source": [
    "sns.boxplot(x=df['no_bathrooms'],y=df['h_price'],hue=df['guestroom'])"
   ]
  },
  {
   "cell_type": "code",
   "execution_count": 86,
   "id": "644a307f",
   "metadata": {},
   "outputs": [
    {
     "data": {
      "text/plain": [
       "<AxesSubplot:xlabel='no_bathrooms', ylabel='h_price'>"
      ]
     },
     "execution_count": 86,
     "metadata": {},
     "output_type": "execute_result"
    },
    {
     "data": {
      "image/png": "[encoded data removed]",
      "text/plain": [
       "<Figure size 432x288 with 1 Axes>"
      ]
     },
     "metadata": {
      "needs_background": "light"
     },
     "output_type": "display_data"
    }
   ],
   "source": [
    "sns.boxplot(x=df['no_bathrooms'],y=df['h_price'],hue=df['airconditioner'])"
   ]
  },
  {
   "cell_type": "code",
   "execution_count": 87,
   "id": "2aeafa0b",
   "metadata": {},
   "outputs": [
    {
     "data": {
      "text/plain": [
       "<AxesSubplot:xlabel='no_bathrooms', ylabel='h_price'>"
      ]
     },
     "execution_count": 87,
     "metadata": {},
     "output_type": "execute_result"
    },
    {
     "data": {
      "image/png": "[encoded data removed]",
      "text/plain": [
       "<Figure size 432x288 with 1 Axes>"
      ]
     },
     "metadata": {
      "needs_background": "light"
     },
     "output_type": "display_data"
    }
   ],
   "source": [
    "sns.boxplot(x=df['no_bathrooms'],y=df['h_price'],hue=df['parking'])"
   ]
  },
  {
   "cell_type": "code",
   "execution_count": 88,
   "id": "8fca453f",
   "metadata": {},
   "outputs": [
    {
     "data": {
      "text/plain": [
       "<AxesSubplot:xlabel='no_bedrooms', ylabel='h_price'>"
      ]
     },
     "execution_count": 88,
     "metadata": {},
     "output_type": "execute_result"
    },
    {
     "data": {
      "image/png": "[encoded data removed]",
      "text/plain": [
       "<Figure size 432x288 with 1 Axes>"
      ]
     },
     "metadata": {
      "needs_background": "light"
     },
     "output_type": "display_data"
    }
   ],
   "source": [
    "sns.boxplot(x=df['no_bedrooms'],y=df['h_price'])"
   ]
  },
  {
   "cell_type": "code",
   "execution_count": 89,
   "id": "02ad5567",
   "metadata": {},
   "outputs": [
    {
     "data": {
      "text/plain": [
       "<AxesSubplot:xlabel='no_bedrooms', ylabel='h_price'>"
      ]
     },
     "execution_count": 89,
     "metadata": {},
     "output_type": "execute_result"
    },
    {
     "data": {
      "image/png": "[encoded data removed]",
      "text/plain": [
       "<Figure size 432x288 with 1 Axes>"
      ]
     },
     "metadata": {
      "needs_background": "light"
     },
     "output_type": "display_data"
    }
   ],
   "source": [
    "sns.boxplot(x=df['no_bedrooms'],y=df['h_price'],hue=df['hotwater'])"
   ]
  },
  {
   "cell_type": "code",
   "execution_count": 90,
   "id": "1592be0d",
   "metadata": {},
   "outputs": [
    {
     "data": {
      "text/plain": [
       "<AxesSubplot:xlabel='no_bedrooms', ylabel='h_price'>"
      ]
     },
     "execution_count": 90,
     "metadata": {},
     "output_type": "execute_result"
    },
    {
     "data": {
      "image/png": "[encoded data removed]",
      "text/plain": [
       "<Figure size 432x288 with 1 Axes>"
      ]
     },
     "metadata": {
      "needs_background": "light"
     },
     "output_type": "display_data"
    }
   ],
   "source": [
    "sns.boxplot(x=df['no_bedrooms'],y=df['h_price'],hue=df['parking'])"
   ]
  },
  {
   "cell_type": "code",
   "execution_count": 91,
   "id": "068fd756",
   "metadata": {},
   "outputs": [
    {
     "data": {
      "text/plain": [
       "<AxesSubplot:xlabel='no_bedrooms', ylabel='h_price'>"
      ]
     },
     "execution_count": 91,
     "metadata": {},
     "output_type": "execute_result"
    },
    {
     "data": {
      "image/png": "[encoded data removed]",
      "text/plain": [
       "<Figure size 432x288 with 1 Axes>"
      ]
     },
     "metadata": {
      "needs_background": "light"
     },
     "output_type": "display_data"
    }
   ],
   "source": [
    "sns.boxplot(x=df['no_bedrooms'],y=df['h_price'],hue=df['airconditioner'])"
   ]
  },
  {
   "cell_type": "code",
   "execution_count": 92,
   "id": "839872a0",
   "metadata": {},
   "outputs": [
    {
     "data": {
      "text/plain": [
       "<AxesSubplot:xlabel='no_bedrooms', ylabel='h_price'>"
      ]
     },
     "execution_count": 92,
     "metadata": {},
     "output_type": "execute_result"
    },
    {
     "data": {
      "image/png": "[encoded data removed]",
      "text/plain": [
       "<Figure size 432x288 with 1 Axes>"
      ]
     },
     "metadata": {
      "needs_background": "light"
     },
     "output_type": "display_data"
    }
   ],
   "source": [
    "sns.boxplot(x=df['no_bedrooms'],y=df['h_price'],hue=df['guestroom'])"
   ]
  },
  {
   "cell_type": "code",
   "execution_count": 93,
   "id": "9d90aa24",
   "metadata": {},
   "outputs": [
    {
     "data": {
      "text/plain": [
       "<AxesSubplot:xlabel='no_bedrooms', ylabel='h_price'>"
      ]
     },
     "execution_count": 93,
     "metadata": {},
     "output_type": "execute_result"
    },
    {
     "data": {
      "image/png": "[encoded data removed]",
      "text/plain": [
       "<Figure size 432x288 with 1 Axes>"
      ]
     },
     "metadata": {
      "needs_background": "light"
     },
     "output_type": "display_data"
    }
   ],
   "source": [
    "sns.boxplot(x=df['no_bedrooms'],y=df['h_price'],hue=df['furnishingstatus'])"
   ]
  },
  {
   "cell_type": "code",
   "execution_count": 94,
   "id": "b9611ef4",
   "metadata": {},
   "outputs": [
    {
     "data": {
      "text/plain": [
       "<AxesSubplot:xlabel='parking', ylabel='h_price'>"
      ]
     },
     "execution_count": 94,
     "metadata": {},
     "output_type": "execute_result"
    },
    {
     "data": {
      "image/png": "[encoded data removed]",
      "text/plain": [
       "<Figure size 432x288 with 1 Axes>"
      ]
     },
     "metadata": {
      "needs_background": "light"
     },
     "output_type": "display_data"
    }
   ],
   "source": [
    "sns.boxplot(x=df['parking'],y=df['h_price'],hue=df['hotwater'])"
   ]
  },
  {
   "cell_type": "code",
   "execution_count": 95,
   "id": "36e04abf",
   "metadata": {},
   "outputs": [
    {
     "data": {
      "text/plain": [
       "<AxesSubplot:xlabel='parking', ylabel='h_price'>"
      ]
     },
     "execution_count": 95,
     "metadata": {},
     "output_type": "execute_result"
    },
    {
     "data": {
      "image/png": "[encoded data removed]",
      "text/plain": [
       "<Figure size 432x288 with 1 Axes>"
      ]
     },
     "metadata": {
      "needs_background": "light"
     },
     "output_type": "display_data"
    }
   ],
   "source": [
    "sns.boxplot(x=df['parking'],y=df['h_price'],hue=df['guestroom'])"
   ]
  },
  {
   "cell_type": "code",
   "execution_count": 96,
   "id": "680028b2",
   "metadata": {},
   "outputs": [
    {
     "data": {
      "text/plain": [
       "<AxesSubplot:xlabel='parking', ylabel='h_price'>"
      ]
     },
     "execution_count": 96,
     "metadata": {},
     "output_type": "execute_result"
    },
    {
     "data": {
      "image/png": "[encoded data removed]",
      "text/plain": [
       "<Figure size 432x288 with 1 Axes>"
      ]
     },
     "metadata": {
      "needs_background": "light"
     },
     "output_type": "display_data"
    }
   ],
   "source": [
    "sns.boxplot(x=df['parking'],y=df['h_price'],hue=df['furnishingstatus'])"
   ]
  },
  {
   "cell_type": "code",
   "execution_count": 97,
   "id": "4fa6aff5",
   "metadata": {},
   "outputs": [
    {
     "data": {
      "text/plain": [
       "<AxesSubplot:xlabel='parking', ylabel='h_price'>"
      ]
     },
     "execution_count": 97,
     "metadata": {},
     "output_type": "execute_result"
    },
    {
     "data": {
      "image/png": "[encoded data removed]",
      "text/plain": [
       "<Figure size 432x288 with 1 Axes>"
      ]
     },
     "metadata": {
      "needs_background": "light"
     },
     "output_type": "display_data"
    }
   ],
   "source": [
    "sns.boxplot(x=df['parking'],y=df['h_price'],hue=df['airconditioner'])"
   ]
  },
  {
   "cell_type": "code",
   "execution_count": 98,
   "id": "1184fbd7",
   "metadata": {},
   "outputs": [
    {
     "data": {
      "text/html": [
       "<div>\n",
       "<style scoped>\n",
       "    .dataframe tbody tr th:only-of-type {\n",
       "        vertical-align: middle;\n",
       "    }\n",
       "\n",
       "    .dataframe tbody tr th {\n",
       "        vertical-align: top;\n",
       "    }\n",
       "\n",
       "    .dataframe thead th {\n",
       "        text-align: right;\n",
       "    }\n",
       "</style>\n",
       "<table border=\"1\" class=\"dataframe\">\n",
       "  <thead>\n",
       "    <tr style=\"text-align: right;\">\n",
       "      <th></th>\n",
       "      <th>h_price</th>\n",
       "      <th>area</th>\n",
       "      <th>no_bedrooms</th>\n",
       "      <th>no_bathrooms</th>\n",
       "      <th>total_stories</th>\n",
       "      <th>mainroad_loc</th>\n",
       "      <th>guestroom</th>\n",
       "      <th>hotwater</th>\n",
       "      <th>airconditioner</th>\n",
       "      <th>parking</th>\n",
       "      <th>furnishingstatus</th>\n",
       "    </tr>\n",
       "  </thead>\n",
       "  <tbody>\n",
       "    <tr>\n",
       "      <th>0</th>\n",
       "      <td>13300000.0</td>\n",
       "      <td>7420.0</td>\n",
       "      <td>4 rooms</td>\n",
       "      <td>2 bathroom</td>\n",
       "      <td>3.0</td>\n",
       "      <td>yes</td>\n",
       "      <td>no</td>\n",
       "      <td>no</td>\n",
       "      <td>yes</td>\n",
       "      <td>2.0</td>\n",
       "      <td>furnished</td>\n",
       "    </tr>\n",
       "    <tr>\n",
       "      <th>2</th>\n",
       "      <td>12250000.0</td>\n",
       "      <td>9960.0</td>\n",
       "      <td>3 rooms</td>\n",
       "      <td>2 bathroom</td>\n",
       "      <td>2.0</td>\n",
       "      <td>yes</td>\n",
       "      <td>no</td>\n",
       "      <td>no</td>\n",
       "      <td>no</td>\n",
       "      <td>2.0</td>\n",
       "      <td>semi-furnished</td>\n",
       "    </tr>\n",
       "    <tr>\n",
       "      <th>4</th>\n",
       "      <td>11410000.0</td>\n",
       "      <td>4600.0</td>\n",
       "      <td>4 rooms</td>\n",
       "      <td>1 bathroom</td>\n",
       "      <td>2.0</td>\n",
       "      <td>yes</td>\n",
       "      <td>yes</td>\n",
       "      <td>no</td>\n",
       "      <td>yes</td>\n",
       "      <td>2.0</td>\n",
       "      <td>furnished</td>\n",
       "    </tr>\n",
       "    <tr>\n",
       "      <th>5</th>\n",
       "      <td>10850000.0</td>\n",
       "      <td>7500.0</td>\n",
       "      <td>3 rooms</td>\n",
       "      <td>3 bathroom</td>\n",
       "      <td>1.0</td>\n",
       "      <td>yes</td>\n",
       "      <td>no</td>\n",
       "      <td>no</td>\n",
       "      <td>yes</td>\n",
       "      <td>2.0</td>\n",
       "      <td>semi-furnished</td>\n",
       "    </tr>\n",
       "    <tr>\n",
       "      <th>8</th>\n",
       "      <td>9870000.0</td>\n",
       "      <td>8100.0</td>\n",
       "      <td>4 rooms</td>\n",
       "      <td>1 bathroom</td>\n",
       "      <td>2.0</td>\n",
       "      <td>yes</td>\n",
       "      <td>yes</td>\n",
       "      <td>no</td>\n",
       "      <td>yes</td>\n",
       "      <td>2.0</td>\n",
       "      <td>furnished</td>\n",
       "    </tr>\n",
       "    <tr>\n",
       "      <th>...</th>\n",
       "      <td>...</td>\n",
       "      <td>...</td>\n",
       "      <td>...</td>\n",
       "      <td>...</td>\n",
       "      <td>...</td>\n",
       "      <td>...</td>\n",
       "      <td>...</td>\n",
       "      <td>...</td>\n",
       "      <td>...</td>\n",
       "      <td>...</td>\n",
       "      <td>...</td>\n",
       "    </tr>\n",
       "    <tr>\n",
       "      <th>527</th>\n",
       "      <td>1855000.0</td>\n",
       "      <td>2990.0</td>\n",
       "      <td>2 rooms</td>\n",
       "      <td>1 bathroom</td>\n",
       "      <td>1.0</td>\n",
       "      <td>no</td>\n",
       "      <td>no</td>\n",
       "      <td>no</td>\n",
       "      <td>no</td>\n",
       "      <td>1.0</td>\n",
       "      <td>unfurnished</td>\n",
       "    </tr>\n",
       "    <tr>\n",
       "      <th>528</th>\n",
       "      <td>1820000.0</td>\n",
       "      <td>4600.0</td>\n",
       "      <td>2 rooms</td>\n",
       "      <td>1 bathroom</td>\n",
       "      <td>1.0</td>\n",
       "      <td>yes</td>\n",
       "      <td>no</td>\n",
       "      <td>no</td>\n",
       "      <td>no</td>\n",
       "      <td>2.0</td>\n",
       "      <td>unfurnished</td>\n",
       "    </tr>\n",
       "    <tr>\n",
       "      <th>529</th>\n",
       "      <td>1767150.0</td>\n",
       "      <td>2400.0</td>\n",
       "      <td>3 rooms</td>\n",
       "      <td>1 bathroom</td>\n",
       "      <td>1.0</td>\n",
       "      <td>no</td>\n",
       "      <td>no</td>\n",
       "      <td>no</td>\n",
       "      <td>no</td>\n",
       "      <td>0.0</td>\n",
       "      <td>semi-furnished</td>\n",
       "    </tr>\n",
       "    <tr>\n",
       "      <th>530</th>\n",
       "      <td>1750000.0</td>\n",
       "      <td>3620.0</td>\n",
       "      <td>2 rooms</td>\n",
       "      <td>1 bathroom</td>\n",
       "      <td>1.0</td>\n",
       "      <td>yes</td>\n",
       "      <td>no</td>\n",
       "      <td>no</td>\n",
       "      <td>no</td>\n",
       "      <td>0.0</td>\n",
       "      <td>unfurnished</td>\n",
       "    </tr>\n",
       "    <tr>\n",
       "      <th>531</th>\n",
       "      <td>1750000.0</td>\n",
       "      <td>3850.0</td>\n",
       "      <td>3 rooms</td>\n",
       "      <td>1 bathroom</td>\n",
       "      <td>2.0</td>\n",
       "      <td>yes</td>\n",
       "      <td>no</td>\n",
       "      <td>no</td>\n",
       "      <td>no</td>\n",
       "      <td>0.0</td>\n",
       "      <td>unfurnished</td>\n",
       "    </tr>\n",
       "  </tbody>\n",
       "</table>\n",
       "<p>466 rows × 11 columns</p>\n",
       "</div>"
      ],
      "text/plain": [
       "        h_price    area no_bedrooms no_bathrooms  total_stories mainroad_loc  \\\n",
       "0    13300000.0  7420.0     4 rooms   2 bathroom            3.0          yes   \n",
       "2    12250000.0  9960.0     3 rooms   2 bathroom            2.0          yes   \n",
       "4    11410000.0  4600.0     4 rooms   1 bathroom            2.0          yes   \n",
       "5    10850000.0  7500.0     3 rooms   3 bathroom            1.0          yes   \n",
       "8     9870000.0  8100.0     4 rooms   1 bathroom            2.0          yes   \n",
       "..          ...     ...         ...          ...            ...          ...   \n",
       "527   1855000.0  2990.0     2 rooms   1 bathroom            1.0           no   \n",
       "528   1820000.0  4600.0     2 rooms   1 bathroom            1.0          yes   \n",
       "529   1767150.0  2400.0     3 rooms   1 bathroom            1.0           no   \n",
       "530   1750000.0  3620.0     2 rooms   1 bathroom            1.0          yes   \n",
       "531   1750000.0  3850.0     3 rooms   1 bathroom            2.0          yes   \n",
       "\n",
       "    guestroom hotwater airconditioner  parking furnishingstatus  \n",
       "0          no       no            yes      2.0        furnished  \n",
       "2          no       no             no      2.0   semi-furnished  \n",
       "4         yes       no            yes      2.0        furnished  \n",
       "5          no       no            yes      2.0   semi-furnished  \n",
       "8         yes       no            yes      2.0        furnished  \n",
       "..        ...      ...            ...      ...              ...  \n",
       "527        no       no             no      1.0      unfurnished  \n",
       "528        no       no             no      2.0      unfurnished  \n",
       "529        no       no             no      0.0   semi-furnished  \n",
       "530        no       no             no      0.0      unfurnished  \n",
       "531        no       no             no      0.0      unfurnished  \n",
       "\n",
       "[466 rows x 11 columns]"
      ]
     },
     "execution_count": 98,
     "metadata": {},
     "output_type": "execute_result"
    }
   ],
   "source": [
    "df"
   ]
  },
  {
   "cell_type": "code",
   "execution_count": 99,
   "id": "30e6d4a3",
   "metadata": {
    "scrolled": false
   },
   "outputs": [
    {
     "name": "stderr",
     "output_type": "stream",
     "text": [
      "C:\\Users\\himanshu\\anaconda3\\lib\\site-packages\\seaborn\\distributions.py:2619: FutureWarning: `distplot` is a deprecated function and will be removed in a future version. Please adapt your code to use either `displot` (a figure-level function with similar flexibility) or `histplot` (an axes-level function for histograms).\n",
      "  warnings.warn(msg, FutureWarning)\n"
     ]
    },
    {
     "data": {
      "text/plain": [
       "<AxesSubplot:xlabel='area', ylabel='Density'>"
      ]
     },
     "execution_count": 99,
     "metadata": {},
     "output_type": "execute_result"
    },
    {
     "data": {
      "image/png": "[encoded data removed]",
      "text/plain": [
       "<Figure size 432x288 with 1 Axes>"
      ]
     },
     "metadata": {
      "needs_background": "light"
     },
     "output_type": "display_data"
    }
   ],
   "source": [
    "sns.distplot(df['area'])"
   ]
  },
  {
   "cell_type": "code",
   "execution_count": 100,
   "id": "2314e763",
   "metadata": {},
   "outputs": [
    {
     "data": {
      "text/plain": [
       "<AxesSubplot:xlabel='area', ylabel='Count'>"
      ]
     },
     "execution_count": 100,
     "metadata": {},
     "output_type": "execute_result"
    },
    {
     "data": {
      "image/png": "[encoded data removed]",
      "text/plain": [
       "<Figure size 432x288 with 1 Axes>"
      ]
     },
     "metadata": {
      "needs_background": "light"
     },
     "output_type": "display_data"
    }
   ],
   "source": [
    "sns.histplot(df['area'])"
   ]
  },
  {
   "cell_type": "code",
   "execution_count": 101,
   "id": "1129b9dc",
   "metadata": {},
   "outputs": [
    {
     "data": {
      "image/png": "[encoded data removed]",
      "text/plain": [
       "<Figure size 720x720 with 2 Axes>"
      ]
     },
     "metadata": {
      "needs_background": "light"
     },
     "output_type": "display_data"
    }
   ],
   "source": [
    "plt.figure(figsize=(10,10))\n",
    "sns.heatmap(df.corr(),annot=True)\n",
    "plt.show()"
   ]
  },
  {
   "cell_type": "code",
   "execution_count": 102,
   "id": "c0c28ebe",
   "metadata": {},
   "outputs": [],
   "source": [
    "le=LabelEncoder()\n"
   ]
  },
  {
   "cell_type": "code",
   "execution_count": 103,
   "id": "d5206cfe",
   "metadata": {},
   "outputs": [
    {
     "name": "stderr",
     "output_type": "stream",
     "text": [
      "C:\\Users\\himanshu\\AppData\\Local\\Temp\\ipykernel_2376\\4240775138.py:1: SettingWithCopyWarning: \n",
      "A value is trying to be set on a copy of a slice from a DataFrame.\n",
      "Try using .loc[row_indexer,col_indexer] = value instead\n",
      "\n",
      "See the caveats in the documentation: https://pandas.pydata.org/pandas-docs/stable/user_guide/indexing.html#returning-a-view-versus-a-copy\n",
      "  df['furnishingstatus']=le.fit_transform(df['furnishingstatus'])\n"
     ]
    }
   ],
   "source": [
    "df['furnishingstatus']=le.fit_transform(df['furnishingstatus'])\n"
   ]
  },
  {
   "cell_type": "code",
   "execution_count": 104,
   "id": "9e5481d3",
   "metadata": {},
   "outputs": [
    {
     "name": "stderr",
     "output_type": "stream",
     "text": [
      "C:\\Users\\himanshu\\AppData\\Local\\Temp\\ipykernel_2376\\3106140806.py:1: SettingWithCopyWarning: \n",
      "A value is trying to be set on a copy of a slice from a DataFrame.\n",
      "Try using .loc[row_indexer,col_indexer] = value instead\n",
      "\n",
      "See the caveats in the documentation: https://pandas.pydata.org/pandas-docs/stable/user_guide/indexing.html#returning-a-view-versus-a-copy\n",
      "  df['airconditioner']=le.fit_transform(df['airconditioner'])\n"
     ]
    }
   ],
   "source": [
    "df['airconditioner']=le.fit_transform(df['airconditioner'])\n"
   ]
  },
  {
   "cell_type": "code",
   "execution_count": 105,
   "id": "d6f19e74",
   "metadata": {},
   "outputs": [
    {
     "name": "stderr",
     "output_type": "stream",
     "text": [
      "C:\\Users\\himanshu\\AppData\\Local\\Temp\\ipykernel_2376\\597219027.py:1: SettingWithCopyWarning: \n",
      "A value is trying to be set on a copy of a slice from a DataFrame.\n",
      "Try using .loc[row_indexer,col_indexer] = value instead\n",
      "\n",
      "See the caveats in the documentation: https://pandas.pydata.org/pandas-docs/stable/user_guide/indexing.html#returning-a-view-versus-a-copy\n",
      "  df['hotwater']=le.fit_transform(df['hotwater'])\n"
     ]
    }
   ],
   "source": [
    "df['hotwater']=le.fit_transform(df['hotwater'])\n"
   ]
  },
  {
   "cell_type": "code",
   "execution_count": 106,
   "id": "46d36192",
   "metadata": {},
   "outputs": [
    {
     "name": "stderr",
     "output_type": "stream",
     "text": [
      "C:\\Users\\himanshu\\AppData\\Local\\Temp\\ipykernel_2376\\1039187.py:1: SettingWithCopyWarning: \n",
      "A value is trying to be set on a copy of a slice from a DataFrame.\n",
      "Try using .loc[row_indexer,col_indexer] = value instead\n",
      "\n",
      "See the caveats in the documentation: https://pandas.pydata.org/pandas-docs/stable/user_guide/indexing.html#returning-a-view-versus-a-copy\n",
      "  df['guestroom']=le.fit_transform(df['guestroom'])\n"
     ]
    }
   ],
   "source": [
    "df['guestroom']=le.fit_transform(df['guestroom'])\n"
   ]
  },
  {
   "cell_type": "code",
   "execution_count": 107,
   "id": "9c7008b2",
   "metadata": {},
   "outputs": [
    {
     "name": "stderr",
     "output_type": "stream",
     "text": [
      "C:\\Users\\himanshu\\AppData\\Local\\Temp\\ipykernel_2376\\153857674.py:1: SettingWithCopyWarning: \n",
      "A value is trying to be set on a copy of a slice from a DataFrame.\n",
      "Try using .loc[row_indexer,col_indexer] = value instead\n",
      "\n",
      "See the caveats in the documentation: https://pandas.pydata.org/pandas-docs/stable/user_guide/indexing.html#returning-a-view-versus-a-copy\n",
      "  df['mainroad_loc']=le.fit_transform(df['mainroad_loc'])\n"
     ]
    }
   ],
   "source": [
    "df['mainroad_loc']=le.fit_transform(df['mainroad_loc'])"
   ]
  },
  {
   "cell_type": "code",
   "execution_count": 108,
   "id": "e4016e7d",
   "metadata": {},
   "outputs": [
    {
     "name": "stderr",
     "output_type": "stream",
     "text": [
      "C:\\Users\\himanshu\\AppData\\Local\\Temp\\ipykernel_2376\\2205610439.py:1: SettingWithCopyWarning: \n",
      "A value is trying to be set on a copy of a slice from a DataFrame.\n",
      "Try using .loc[row_indexer,col_indexer] = value instead\n",
      "\n",
      "See the caveats in the documentation: https://pandas.pydata.org/pandas-docs/stable/user_guide/indexing.html#returning-a-view-versus-a-copy\n",
      "  df['no_bedrooms']=le.fit_transform(df['no_bedrooms'])\n"
     ]
    }
   ],
   "source": [
    "df['no_bedrooms']=le.fit_transform(df['no_bedrooms'])"
   ]
  },
  {
   "cell_type": "code",
   "execution_count": 109,
   "id": "b0d399fe",
   "metadata": {},
   "outputs": [
    {
     "name": "stderr",
     "output_type": "stream",
     "text": [
      "C:\\Users\\himanshu\\AppData\\Local\\Temp\\ipykernel_2376\\3468444091.py:1: SettingWithCopyWarning: \n",
      "A value is trying to be set on a copy of a slice from a DataFrame.\n",
      "Try using .loc[row_indexer,col_indexer] = value instead\n",
      "\n",
      "See the caveats in the documentation: https://pandas.pydata.org/pandas-docs/stable/user_guide/indexing.html#returning-a-view-versus-a-copy\n",
      "  df['no_bathrooms']=le.fit_transform(df['no_bathrooms'])\n"
     ]
    }
   ],
   "source": [
    "df['no_bathrooms']=le.fit_transform(df['no_bathrooms'])"
   ]
  },
  {
   "cell_type": "code",
   "execution_count": 110,
   "id": "7b051448",
   "metadata": {},
   "outputs": [
    {
     "data": {
      "text/html": [
       "<div>\n",
       "<style scoped>\n",
       "    .dataframe tbody tr th:only-of-type {\n",
       "        vertical-align: middle;\n",
       "    }\n",
       "\n",
       "    .dataframe tbody tr th {\n",
       "        vertical-align: top;\n",
       "    }\n",
       "\n",
       "    .dataframe thead th {\n",
       "        text-align: right;\n",
       "    }\n",
       "</style>\n",
       "<table border=\"1\" class=\"dataframe\">\n",
       "  <thead>\n",
       "    <tr style=\"text-align: right;\">\n",
       "      <th></th>\n",
       "      <th>h_price</th>\n",
       "      <th>area</th>\n",
       "      <th>no_bedrooms</th>\n",
       "      <th>no_bathrooms</th>\n",
       "      <th>total_stories</th>\n",
       "      <th>mainroad_loc</th>\n",
       "      <th>guestroom</th>\n",
       "      <th>hotwater</th>\n",
       "      <th>airconditioner</th>\n",
       "      <th>parking</th>\n",
       "      <th>furnishingstatus</th>\n",
       "    </tr>\n",
       "  </thead>\n",
       "  <tbody>\n",
       "    <tr>\n",
       "      <th>0</th>\n",
       "      <td>13300000.0</td>\n",
       "      <td>7420.0</td>\n",
       "      <td>3</td>\n",
       "      <td>1</td>\n",
       "      <td>3.0</td>\n",
       "      <td>1</td>\n",
       "      <td>0</td>\n",
       "      <td>0</td>\n",
       "      <td>1</td>\n",
       "      <td>2.0</td>\n",
       "      <td>0</td>\n",
       "    </tr>\n",
       "    <tr>\n",
       "      <th>2</th>\n",
       "      <td>12250000.0</td>\n",
       "      <td>9960.0</td>\n",
       "      <td>2</td>\n",
       "      <td>1</td>\n",
       "      <td>2.0</td>\n",
       "      <td>1</td>\n",
       "      <td>0</td>\n",
       "      <td>0</td>\n",
       "      <td>0</td>\n",
       "      <td>2.0</td>\n",
       "      <td>1</td>\n",
       "    </tr>\n",
       "    <tr>\n",
       "      <th>4</th>\n",
       "      <td>11410000.0</td>\n",
       "      <td>4600.0</td>\n",
       "      <td>3</td>\n",
       "      <td>0</td>\n",
       "      <td>2.0</td>\n",
       "      <td>1</td>\n",
       "      <td>1</td>\n",
       "      <td>0</td>\n",
       "      <td>1</td>\n",
       "      <td>2.0</td>\n",
       "      <td>0</td>\n",
       "    </tr>\n",
       "    <tr>\n",
       "      <th>5</th>\n",
       "      <td>10850000.0</td>\n",
       "      <td>7500.0</td>\n",
       "      <td>2</td>\n",
       "      <td>2</td>\n",
       "      <td>1.0</td>\n",
       "      <td>1</td>\n",
       "      <td>0</td>\n",
       "      <td>0</td>\n",
       "      <td>1</td>\n",
       "      <td>2.0</td>\n",
       "      <td>1</td>\n",
       "    </tr>\n",
       "    <tr>\n",
       "      <th>8</th>\n",
       "      <td>9870000.0</td>\n",
       "      <td>8100.0</td>\n",
       "      <td>3</td>\n",
       "      <td>0</td>\n",
       "      <td>2.0</td>\n",
       "      <td>1</td>\n",
       "      <td>1</td>\n",
       "      <td>0</td>\n",
       "      <td>1</td>\n",
       "      <td>2.0</td>\n",
       "      <td>0</td>\n",
       "    </tr>\n",
       "    <tr>\n",
       "      <th>...</th>\n",
       "      <td>...</td>\n",
       "      <td>...</td>\n",
       "      <td>...</td>\n",
       "      <td>...</td>\n",
       "      <td>...</td>\n",
       "      <td>...</td>\n",
       "      <td>...</td>\n",
       "      <td>...</td>\n",
       "      <td>...</td>\n",
       "      <td>...</td>\n",
       "      <td>...</td>\n",
       "    </tr>\n",
       "    <tr>\n",
       "      <th>527</th>\n",
       "      <td>1855000.0</td>\n",
       "      <td>2990.0</td>\n",
       "      <td>1</td>\n",
       "      <td>0</td>\n",
       "      <td>1.0</td>\n",
       "      <td>0</td>\n",
       "      <td>0</td>\n",
       "      <td>0</td>\n",
       "      <td>0</td>\n",
       "      <td>1.0</td>\n",
       "      <td>2</td>\n",
       "    </tr>\n",
       "    <tr>\n",
       "      <th>528</th>\n",
       "      <td>1820000.0</td>\n",
       "      <td>4600.0</td>\n",
       "      <td>1</td>\n",
       "      <td>0</td>\n",
       "      <td>1.0</td>\n",
       "      <td>1</td>\n",
       "      <td>0</td>\n",
       "      <td>0</td>\n",
       "      <td>0</td>\n",
       "      <td>2.0</td>\n",
       "      <td>2</td>\n",
       "    </tr>\n",
       "    <tr>\n",
       "      <th>529</th>\n",
       "      <td>1767150.0</td>\n",
       "      <td>2400.0</td>\n",
       "      <td>2</td>\n",
       "      <td>0</td>\n",
       "      <td>1.0</td>\n",
       "      <td>0</td>\n",
       "      <td>0</td>\n",
       "      <td>0</td>\n",
       "      <td>0</td>\n",
       "      <td>0.0</td>\n",
       "      <td>1</td>\n",
       "    </tr>\n",
       "    <tr>\n",
       "      <th>530</th>\n",
       "      <td>1750000.0</td>\n",
       "      <td>3620.0</td>\n",
       "      <td>1</td>\n",
       "      <td>0</td>\n",
       "      <td>1.0</td>\n",
       "      <td>1</td>\n",
       "      <td>0</td>\n",
       "      <td>0</td>\n",
       "      <td>0</td>\n",
       "      <td>0.0</td>\n",
       "      <td>2</td>\n",
       "    </tr>\n",
       "    <tr>\n",
       "      <th>531</th>\n",
       "      <td>1750000.0</td>\n",
       "      <td>3850.0</td>\n",
       "      <td>2</td>\n",
       "      <td>0</td>\n",
       "      <td>2.0</td>\n",
       "      <td>1</td>\n",
       "      <td>0</td>\n",
       "      <td>0</td>\n",
       "      <td>0</td>\n",
       "      <td>0.0</td>\n",
       "      <td>2</td>\n",
       "    </tr>\n",
       "  </tbody>\n",
       "</table>\n",
       "<p>466 rows × 11 columns</p>\n",
       "</div>"
      ],
      "text/plain": [
       "        h_price    area  no_bedrooms  no_bathrooms  total_stories  \\\n",
       "0    13300000.0  7420.0            3             1            3.0   \n",
       "2    12250000.0  9960.0            2             1            2.0   \n",
       "4    11410000.0  4600.0            3             0            2.0   \n",
       "5    10850000.0  7500.0            2             2            1.0   \n",
       "8     9870000.0  8100.0            3             0            2.0   \n",
       "..          ...     ...          ...           ...            ...   \n",
       "527   1855000.0  2990.0            1             0            1.0   \n",
       "528   1820000.0  4600.0            1             0            1.0   \n",
       "529   1767150.0  2400.0            2             0            1.0   \n",
       "530   1750000.0  3620.0            1             0            1.0   \n",
       "531   1750000.0  3850.0            2             0            2.0   \n",
       "\n",
       "     mainroad_loc  guestroom  hotwater  airconditioner  parking  \\\n",
       "0               1          0         0               1      2.0   \n",
       "2               1          0         0               0      2.0   \n",
       "4               1          1         0               1      2.0   \n",
       "5               1          0         0               1      2.0   \n",
       "8               1          1         0               1      2.0   \n",
       "..            ...        ...       ...             ...      ...   \n",
       "527             0          0         0               0      1.0   \n",
       "528             1          0         0               0      2.0   \n",
       "529             0          0         0               0      0.0   \n",
       "530             1          0         0               0      0.0   \n",
       "531             1          0         0               0      0.0   \n",
       "\n",
       "     furnishingstatus  \n",
       "0                   0  \n",
       "2                   1  \n",
       "4                   0  \n",
       "5                   1  \n",
       "8                   0  \n",
       "..                ...  \n",
       "527                 2  \n",
       "528                 2  \n",
       "529                 1  \n",
       "530                 2  \n",
       "531                 2  \n",
       "\n",
       "[466 rows x 11 columns]"
      ]
     },
     "execution_count": 110,
     "metadata": {},
     "output_type": "execute_result"
    }
   ],
   "source": [
    "df"
   ]
  },
  {
   "cell_type": "code",
   "execution_count": 111,
   "id": "54438974",
   "metadata": {},
   "outputs": [],
   "source": [
    "y=df['h_price']"
   ]
  },
  {
   "cell_type": "code",
   "execution_count": 112,
   "id": "519a7898",
   "metadata": {},
   "outputs": [],
   "source": [
    "X=df.drop('h_price',axis=1)"
   ]
  },
  {
   "cell_type": "code",
   "execution_count": 113,
   "id": "9d322e11",
   "metadata": {},
   "outputs": [],
   "source": [
    "X_train, X_test, y_train, y_test = train_test_split(X, y, test_size=0.20, random_state=42)"
   ]
  },
  {
   "cell_type": "code",
   "execution_count": 114,
   "id": "5a50c388",
   "metadata": {},
   "outputs": [
    {
     "data": {
      "text/plain": [
       "(372, 10)"
      ]
     },
     "execution_count": 114,
     "metadata": {},
     "output_type": "execute_result"
    }
   ],
   "source": [
    "X_train.shape"
   ]
  },
  {
   "cell_type": "code",
   "execution_count": 115,
   "id": "0173b45a",
   "metadata": {},
   "outputs": [
    {
     "data": {
      "text/plain": [
       "(94, 10)"
      ]
     },
     "execution_count": 115,
     "metadata": {},
     "output_type": "execute_result"
    }
   ],
   "source": [
    "X_test.shape"
   ]
  },
  {
   "cell_type": "code",
   "execution_count": 116,
   "id": "f1a76ee4",
   "metadata": {},
   "outputs": [],
   "source": [
    "sc=StandardScaler()"
   ]
  },
  {
   "cell_type": "code",
   "execution_count": 117,
   "id": "74aff144",
   "metadata": {},
   "outputs": [],
   "source": [
    "X=sc.fit_transform(X)\n"
   ]
  },
  {
   "cell_type": "code",
   "execution_count": 118,
   "id": "5123878d",
   "metadata": {},
   "outputs": [
    {
     "data": {
      "text/plain": [
       "array([[ 1.50230751,  1.443852  ,  1.63107664, ...,  1.6076739 ,\n",
       "         1.75993412, -1.48060842],\n",
       "       [ 2.94764952,  0.1008679 ,  1.63107664, ..., -0.62201669,\n",
       "         1.75993412, -0.14346981],\n",
       "       [-0.10236354,  1.443852  , -0.51604685, ...,  1.6076739 ,\n",
       "         1.75993412, -1.48060842],\n",
       "       ...,\n",
       "       [-1.35423457,  0.1008679 , -0.51604685, ..., -0.62201669,\n",
       "        -0.77132915, -0.14346981],\n",
       "       [-0.66001518, -1.24211619, -0.51604685, ..., -0.62201669,\n",
       "        -0.77132915,  1.1936688 ],\n",
       "       [-0.52913775,  0.1008679 , -0.51604685, ..., -0.62201669,\n",
       "        -0.77132915,  1.1936688 ]])"
      ]
     },
     "execution_count": 118,
     "metadata": {},
     "output_type": "execute_result"
    }
   ],
   "source": [
    "X"
   ]
  },
  {
   "cell_type": "markdown",
   "id": "adc81583",
   "metadata": {},
   "source": [
    "# RandomForestRegressor"
   ]
  },
  {
   "cell_type": "code",
   "execution_count": 119,
   "id": "6a2058c2",
   "metadata": {},
   "outputs": [],
   "source": [
    "rfr=RandomForestRegressor()\n"
   ]
  },
  {
   "cell_type": "code",
   "execution_count": 120,
   "id": "3a6abadd",
   "metadata": {
    "scrolled": true
   },
   "outputs": [
    {
     "data": {
      "text/plain": [
       "RandomForestRegressor()"
      ]
     },
     "execution_count": 120,
     "metadata": {},
     "output_type": "execute_result"
    }
   ],
   "source": [
    "rfr.fit(X_train,y_train)"
   ]
  },
  {
   "cell_type": "code",
   "execution_count": 121,
   "id": "8312e2ff",
   "metadata": {},
   "outputs": [],
   "source": [
    "y_pred=rfr.predict(X_test)\n"
   ]
  },
  {
   "cell_type": "code",
   "execution_count": 122,
   "id": "4c6c3b03",
   "metadata": {},
   "outputs": [
    {
     "data": {
      "text/plain": [
       "0.6022334577626988"
      ]
     },
     "execution_count": 122,
     "metadata": {},
     "output_type": "execute_result"
    }
   ],
   "source": [
    "r2_score(y_test,y_pred)"
   ]
  },
  {
   "cell_type": "code",
   "execution_count": 123,
   "id": "7b5f9414",
   "metadata": {},
   "outputs": [
    {
     "data": {
      "text/plain": [
       "1467908505837.3047"
      ]
     },
     "execution_count": 123,
     "metadata": {},
     "output_type": "execute_result"
    }
   ],
   "source": [
    "mean_squared_error(y_test,y_pred)"
   ]
  },
  {
   "cell_type": "code",
   "execution_count": 124,
   "id": "8ede3392",
   "metadata": {},
   "outputs": [],
   "source": [
    "y_pred=rfr.predict(X_train)\n"
   ]
  },
  {
   "cell_type": "code",
   "execution_count": 125,
   "id": "8bb68357",
   "metadata": {},
   "outputs": [
    {
     "data": {
      "text/plain": [
       "0.9260063254942403"
      ]
     },
     "execution_count": 125,
     "metadata": {},
     "output_type": "execute_result"
    }
   ],
   "source": [
    "r2_score(y_train,y_pred)"
   ]
  },
  {
   "cell_type": "code",
   "execution_count": 126,
   "id": "3b36359d",
   "metadata": {},
   "outputs": [],
   "source": [
    "kf=KFold(5)\n"
   ]
  },
  {
   "cell_type": "code",
   "execution_count": 127,
   "id": "fa2ae9a0",
   "metadata": {},
   "outputs": [],
   "source": [
    "scores=cross_val_score(rfr,X_train,y_train,cv=kf)"
   ]
  },
  {
   "cell_type": "code",
   "execution_count": 128,
   "id": "0b724844",
   "metadata": {},
   "outputs": [
    {
     "name": "stdout",
     "output_type": "stream",
     "text": [
      "0 0.5106185976858538\n",
      "1 0.28745242111570013\n",
      "2 0.46464350533830256\n",
      "3 0.4746692898252115\n",
      "4 0.4091518324945783\n"
     ]
    }
   ],
   "source": [
    "for idx,value in enumerate(scores):\n",
    "    print(idx,value)"
   ]
  },
  {
   "cell_type": "code",
   "execution_count": 129,
   "id": "c33e4919",
   "metadata": {},
   "outputs": [
    {
     "data": {
      "text/plain": [
       "0.42930712929192927"
      ]
     },
     "execution_count": 129,
     "metadata": {},
     "output_type": "execute_result"
    }
   ],
   "source": [
    "scores.mean()"
   ]
  },
  {
   "cell_type": "markdown",
   "id": "1f967442",
   "metadata": {},
   "source": [
    "# LinearRegression"
   ]
  },
  {
   "cell_type": "code",
   "execution_count": 130,
   "id": "a51db506",
   "metadata": {},
   "outputs": [],
   "source": [
    "lr=LinearRegression()\n"
   ]
  },
  {
   "cell_type": "code",
   "execution_count": 131,
   "id": "854fe912",
   "metadata": {
    "scrolled": true
   },
   "outputs": [
    {
     "data": {
      "text/plain": [
       "LinearRegression()"
      ]
     },
     "execution_count": 131,
     "metadata": {},
     "output_type": "execute_result"
    }
   ],
   "source": [
    "lr.fit(X_train,y_train)"
   ]
  },
  {
   "cell_type": "code",
   "execution_count": 132,
   "id": "6dfa6f4c",
   "metadata": {},
   "outputs": [],
   "source": [
    "y_pred=lr.predict(X_test)\n"
   ]
  },
  {
   "cell_type": "code",
   "execution_count": 133,
   "id": "82c1a879",
   "metadata": {},
   "outputs": [
    {
     "data": {
      "text/plain": [
       "0.6333358466385705"
      ]
     },
     "execution_count": 133,
     "metadata": {},
     "output_type": "execute_result"
    }
   ],
   "source": [
    "r2_score(y_test,y_pred)"
   ]
  },
  {
   "cell_type": "code",
   "execution_count": 134,
   "id": "8aef26d2",
   "metadata": {},
   "outputs": [
    {
     "data": {
      "text/plain": [
       "1353128964737.756"
      ]
     },
     "execution_count": 134,
     "metadata": {},
     "output_type": "execute_result"
    }
   ],
   "source": [
    "mean_squared_error(y_test,y_pred)"
   ]
  },
  {
   "cell_type": "code",
   "execution_count": 135,
   "id": "fb7b3f2e",
   "metadata": {},
   "outputs": [],
   "source": [
    "y_pred=lr.predict(X_train)\n"
   ]
  },
  {
   "cell_type": "code",
   "execution_count": 136,
   "id": "7e1e9b49",
   "metadata": {},
   "outputs": [
    {
     "data": {
      "text/plain": [
       "0.5704908861003457"
      ]
     },
     "execution_count": 136,
     "metadata": {},
     "output_type": "execute_result"
    }
   ],
   "source": [
    "r2_score(y_train,y_pred)"
   ]
  },
  {
   "cell_type": "code",
   "execution_count": 137,
   "id": "42160f43",
   "metadata": {},
   "outputs": [
    {
     "data": {
      "text/plain": [
       "1149072359363.4214"
      ]
     },
     "execution_count": 137,
     "metadata": {},
     "output_type": "execute_result"
    }
   ],
   "source": [
    "mean_squared_error(y_train,y_pred)"
   ]
  },
  {
   "cell_type": "code",
   "execution_count": 138,
   "id": "ba980b93",
   "metadata": {},
   "outputs": [],
   "source": [
    "kf=KFold(5)\n"
   ]
  },
  {
   "cell_type": "code",
   "execution_count": 139,
   "id": "e7486400",
   "metadata": {},
   "outputs": [],
   "source": [
    "scores=cross_val_score(lr,X_train,y_train,cv=kf)"
   ]
  },
  {
   "cell_type": "code",
   "execution_count": 140,
   "id": "fefaff39",
   "metadata": {},
   "outputs": [
    {
     "name": "stdout",
     "output_type": "stream",
     "text": [
      "0 0.6482850881763766\n",
      "1 0.4721325744633984\n",
      "2 0.40757843939840155\n",
      "3 0.5201028287087531\n",
      "4 0.44763229669575477\n"
     ]
    }
   ],
   "source": [
    "for idx,value in enumerate(scores):\n",
    "    print(idx,value)"
   ]
  },
  {
   "cell_type": "code",
   "execution_count": 141,
   "id": "09667ca3",
   "metadata": {},
   "outputs": [
    {
     "data": {
      "text/plain": [
       "0.49914624548853687"
      ]
     },
     "execution_count": 141,
     "metadata": {},
     "output_type": "execute_result"
    }
   ],
   "source": [
    "scores.mean()"
   ]
  },
  {
   "cell_type": "markdown",
   "id": "39cfc7dd",
   "metadata": {},
   "source": [
    "# DecisionTreeRegressor"
   ]
  },
  {
   "cell_type": "code",
   "execution_count": 142,
   "id": "8cb53511",
   "metadata": {},
   "outputs": [],
   "source": [
    "dtr=DecisionTreeRegressor()\n"
   ]
  },
  {
   "cell_type": "code",
   "execution_count": 143,
   "id": "20bd7edb",
   "metadata": {
    "scrolled": true
   },
   "outputs": [
    {
     "data": {
      "text/plain": [
       "DecisionTreeRegressor()"
      ]
     },
     "execution_count": 143,
     "metadata": {},
     "output_type": "execute_result"
    }
   ],
   "source": [
    "dtr.fit(X_train,y_train)"
   ]
  },
  {
   "cell_type": "code",
   "execution_count": 144,
   "id": "63fade88",
   "metadata": {},
   "outputs": [],
   "source": [
    "y_pred=dtr.predict(X_test)\n"
   ]
  },
  {
   "cell_type": "code",
   "execution_count": 145,
   "id": "c286cc14",
   "metadata": {},
   "outputs": [
    {
     "data": {
      "text/plain": [
       "0.35132433768077775"
      ]
     },
     "execution_count": 145,
     "metadata": {},
     "output_type": "execute_result"
    }
   ],
   "source": [
    "r2_score(y_test,y_pred)"
   ]
  },
  {
   "cell_type": "code",
   "execution_count": 146,
   "id": "f48d5247",
   "metadata": {},
   "outputs": [
    {
     "data": {
      "text/plain": [
       "2393857756090.4253"
      ]
     },
     "execution_count": 146,
     "metadata": {},
     "output_type": "execute_result"
    }
   ],
   "source": [
    "mean_squared_error(y_test,y_pred)"
   ]
  },
  {
   "cell_type": "code",
   "execution_count": 147,
   "id": "ad24099f",
   "metadata": {},
   "outputs": [],
   "source": [
    "y_pred=dtr.predict(X_train)\n"
   ]
  },
  {
   "cell_type": "code",
   "execution_count": 148,
   "id": "c90d2be4",
   "metadata": {},
   "outputs": [
    {
     "data": {
      "text/plain": [
       "0.9979864905682414"
      ]
     },
     "execution_count": 148,
     "metadata": {},
     "output_type": "execute_result"
    }
   ],
   "source": [
    "r2_score(y_train,y_pred)"
   ]
  },
  {
   "cell_type": "code",
   "execution_count": 149,
   "id": "6f527e99",
   "metadata": {},
   "outputs": [],
   "source": [
    "kf=KFold(5)\n"
   ]
  },
  {
   "cell_type": "code",
   "execution_count": 150,
   "id": "36eeafe6",
   "metadata": {},
   "outputs": [],
   "source": [
    "scores=cross_val_score(dtr,X_train,y_train,cv=kf)"
   ]
  },
  {
   "cell_type": "code",
   "execution_count": 151,
   "id": "cc2332c7",
   "metadata": {},
   "outputs": [
    {
     "name": "stdout",
     "output_type": "stream",
     "text": [
      "0 0.08149249512604761\n",
      "1 0.09716601709495243\n",
      "2 -0.30474502634175615\n",
      "3 -0.040674373922562124\n",
      "4 0.2026360241680477\n"
     ]
    }
   ],
   "source": [
    "for idx,value in enumerate(scores):\n",
    "    print(idx,value)"
   ]
  },
  {
   "cell_type": "code",
   "execution_count": 152,
   "id": "4afc5e8d",
   "metadata": {},
   "outputs": [
    {
     "data": {
      "text/plain": [
       "0.007175027224945896"
      ]
     },
     "execution_count": 152,
     "metadata": {},
     "output_type": "execute_result"
    }
   ],
   "source": [
    "scores.mean()"
   ]
  },
  {
   "cell_type": "markdown",
   "id": "107092a7",
   "metadata": {},
   "source": [
    "# XGBRegressor"
   ]
  },
  {
   "cell_type": "code",
   "execution_count": 153,
   "id": "7b705b7d",
   "metadata": {},
   "outputs": [],
   "source": [
    "xgb_i=xgb.XGBRegressor()\n"
   ]
  },
  {
   "cell_type": "code",
   "execution_count": 154,
   "id": "0e3e29d1",
   "metadata": {
    "scrolled": true
   },
   "outputs": [
    {
     "data": {
      "text/plain": [
       "XGBRegressor(base_score=None, booster=None, callbacks=None,\n",
       "             colsample_bylevel=None, colsample_bynode=None,\n",
       "             colsample_bytree=None, early_stopping_rounds=None,\n",
       "             enable_categorical=False, eval_metric=None, feature_types=None,\n",
       "             gamma=None, gpu_id=None, grow_policy=None, importance_type=None,\n",
       "             interaction_constraints=None, learning_rate=None, max_bin=None,\n",
       "             max_cat_threshold=None, max_cat_to_onehot=None,\n",
       "             max_delta_step=None, max_depth=None, max_leaves=None,\n",
       "             min_child_weight=None, missing=nan, monotone_constraints=None,\n",
       "             n_estimators=100, n_jobs=None, num_parallel_tree=None,\n",
       "             predictor=None, random_state=None, ...)"
      ]
     },
     "execution_count": 154,
     "metadata": {},
     "output_type": "execute_result"
    }
   ],
   "source": [
    "xgb_i.fit(X_train,y_train)"
   ]
  },
  {
   "cell_type": "code",
   "execution_count": 155,
   "id": "0b7360a3",
   "metadata": {},
   "outputs": [],
   "source": [
    "y_pred=xgb_i.predict(X_test)\n"
   ]
  },
  {
   "cell_type": "code",
   "execution_count": 156,
   "id": "e8bc50d0",
   "metadata": {},
   "outputs": [
    {
     "data": {
      "text/plain": [
       "0.503713958571401"
      ]
     },
     "execution_count": 156,
     "metadata": {},
     "output_type": "execute_result"
    }
   ],
   "source": [
    "r2_score(y_test,y_pred)"
   ]
  },
  {
   "cell_type": "code",
   "execution_count": 157,
   "id": "67715f03",
   "metadata": {},
   "outputs": [
    {
     "data": {
      "text/plain": [
       "1831482601436.9814"
      ]
     },
     "execution_count": 157,
     "metadata": {},
     "output_type": "execute_result"
    }
   ],
   "source": [
    "mean_squared_error(y_test,y_pred)"
   ]
  },
  {
   "cell_type": "code",
   "execution_count": 158,
   "id": "3c6943ac",
   "metadata": {},
   "outputs": [],
   "source": [
    "y_pred=xgb_i.predict(X_train)\n"
   ]
  },
  {
   "cell_type": "code",
   "execution_count": 159,
   "id": "70719526",
   "metadata": {},
   "outputs": [
    {
     "data": {
      "text/plain": [
       "0.9955697326649937"
      ]
     },
     "execution_count": 159,
     "metadata": {},
     "output_type": "execute_result"
    }
   ],
   "source": [
    "r2_score(y_train,y_pred)"
   ]
  },
  {
   "cell_type": "code",
   "execution_count": 160,
   "id": "7ab7d138",
   "metadata": {},
   "outputs": [
    {
     "data": {
      "text/plain": [
       "11852362556.468834"
      ]
     },
     "execution_count": 160,
     "metadata": {},
     "output_type": "execute_result"
    }
   ],
   "source": [
    "mean_squared_error(y_train,y_pred)"
   ]
  },
  {
   "cell_type": "code",
   "execution_count": 161,
   "id": "94ce386f",
   "metadata": {},
   "outputs": [],
   "source": [
    "kf=KFold(5)\n"
   ]
  },
  {
   "cell_type": "code",
   "execution_count": 162,
   "id": "294636eb",
   "metadata": {},
   "outputs": [],
   "source": [
    "scores=cross_val_score(xgb_i,X_train,y_train,cv=kf)"
   ]
  },
  {
   "cell_type": "code",
   "execution_count": 163,
   "id": "60ef293f",
   "metadata": {},
   "outputs": [
    {
     "name": "stdout",
     "output_type": "stream",
     "text": [
      "0 0.4266625782559508\n",
      "1 0.28453129211103245\n",
      "2 0.392151816104527\n",
      "3 0.37085201760744035\n",
      "4 0.34385153244919386\n"
     ]
    }
   ],
   "source": [
    "for idx,value in enumerate(scores):\n",
    "    print(idx,value)"
   ]
  },
  {
   "cell_type": "code",
   "execution_count": 164,
   "id": "7581b917",
   "metadata": {},
   "outputs": [
    {
     "data": {
      "text/plain": [
       "0.3636098473056289"
      ]
     },
     "execution_count": 164,
     "metadata": {},
     "output_type": "execute_result"
    }
   ],
   "source": [
    "scores.mean()"
   ]
  },
  {
   "cell_type": "code",
   "execution_count": null,
   "id": "f3982ede",
   "metadata": {},
   "outputs": [],
   "source": []
  },
  {
   "cell_type": "markdown",
   "id": "5c77bb6b",
   "metadata": {},
   "source": [
    "# KNeighborsRegressor"
   ]
  },
  {
   "cell_type": "code",
   "execution_count": 165,
   "id": "89d153aa",
   "metadata": {},
   "outputs": [],
   "source": [
    "knr=KNeighborsRegressor()\n"
   ]
  },
  {
   "cell_type": "code",
   "execution_count": 166,
   "id": "dd3b7722",
   "metadata": {
    "scrolled": true
   },
   "outputs": [
    {
     "data": {
      "text/plain": [
       "KNeighborsRegressor()"
      ]
     },
     "execution_count": 166,
     "metadata": {},
     "output_type": "execute_result"
    }
   ],
   "source": [
    "knr.fit(X_train,y_train)"
   ]
  },
  {
   "cell_type": "code",
   "execution_count": 167,
   "id": "50a763c2",
   "metadata": {},
   "outputs": [],
   "source": [
    "y_pred=knr.predict(X_test)\n"
   ]
  },
  {
   "cell_type": "code",
   "execution_count": 168,
   "id": "0d9284a3",
   "metadata": {},
   "outputs": [
    {
     "data": {
      "text/plain": [
       "0.41046095633051793"
      ]
     },
     "execution_count": 168,
     "metadata": {},
     "output_type": "execute_result"
    }
   ],
   "source": [
    "r2_score(y_test,y_pred)"
   ]
  },
  {
   "cell_type": "code",
   "execution_count": 169,
   "id": "4d935c74",
   "metadata": {},
   "outputs": [
    {
     "data": {
      "text/plain": [
       "2175621337727.6597"
      ]
     },
     "execution_count": 169,
     "metadata": {},
     "output_type": "execute_result"
    }
   ],
   "source": [
    "mean_squared_error(y_test,y_pred)"
   ]
  },
  {
   "cell_type": "code",
   "execution_count": 170,
   "id": "cad22516",
   "metadata": {},
   "outputs": [],
   "source": [
    "y_pred=knr.predict(X_train)\n"
   ]
  },
  {
   "cell_type": "code",
   "execution_count": 171,
   "id": "1e0f7acc",
   "metadata": {},
   "outputs": [
    {
     "data": {
      "text/plain": [
       "0.4536891956245609"
      ]
     },
     "execution_count": 171,
     "metadata": {},
     "output_type": "execute_result"
    }
   ],
   "source": [
    "r2_score(y_train,y_pred)"
   ]
  },
  {
   "cell_type": "code",
   "execution_count": 172,
   "id": "6a9e72d3",
   "metadata": {},
   "outputs": [
    {
     "data": {
      "text/plain": [
       "1461553724040.5913"
      ]
     },
     "execution_count": 172,
     "metadata": {},
     "output_type": "execute_result"
    }
   ],
   "source": [
    "mean_squared_error(y_train,y_pred)"
   ]
  },
  {
   "cell_type": "code",
   "execution_count": 173,
   "id": "9cc408ba",
   "metadata": {},
   "outputs": [],
   "source": [
    "kf=KFold(5)\n"
   ]
  },
  {
   "cell_type": "code",
   "execution_count": 174,
   "id": "3fb13e1d",
   "metadata": {},
   "outputs": [],
   "source": [
    "scores=cross_val_score(knr,X_train,y_train,cv=kf)"
   ]
  },
  {
   "cell_type": "code",
   "execution_count": 175,
   "id": "026dc6b0",
   "metadata": {},
   "outputs": [
    {
     "name": "stdout",
     "output_type": "stream",
     "text": [
      "0 0.2893725165767913\n",
      "1 0.058645855948532666\n",
      "2 0.044864072786367504\n",
      "3 0.029503132995322923\n",
      "4 0.058379197575638364\n"
     ]
    }
   ],
   "source": [
    "for idx,value in enumerate(scores):\n",
    "    print(idx,value)"
   ]
  },
  {
   "cell_type": "code",
   "execution_count": 176,
   "id": "eac94272",
   "metadata": {},
   "outputs": [
    {
     "data": {
      "text/plain": [
       "0.09615295517653055"
      ]
     },
     "execution_count": 176,
     "metadata": {},
     "output_type": "execute_result"
    }
   ],
   "source": [
    "scores.mean()"
   ]
  }
 ],
 "metadata": {
  "kernelspec": {
   "display_name": "Python 3 (ipykernel)",
   "language": "python",
   "name": "python3"
  },
  "language_info": {
   "codemirror_mode": {
    "name": "ipython",
    "version": 3
   },
   "file_extension": ".py",
   "mimetype": "text/x-python",
   "name": "python",
   "nbconvert_exporter": "python",
   "pygments_lexer": "ipython3",
   "version": "3.9.12"
  }
 },
 "nbformat": 4,
 "nbformat_minor": 5
}
